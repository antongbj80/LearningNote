{
 "cells": [
  {
   "cell_type": "markdown",
   "metadata": {
    "pycharm": {
     "name": "#%% md\n"
    }
   },
   "source": [
    "# 使用quandl库中的数据，利用Adaboost、GBDT、XGBoost、LightGBM四种算法进行预测"
   ]
  },
  {
   "cell_type": "code",
   "execution_count": 9,
   "metadata": {
    "pycharm": {
     "name": "#%%\n"
    }
   },
   "outputs": [],
   "source": [
    "import quandl\n",
    "import math\n",
    "import numpy as np\n",
    "import time\n",
    "from sklearn.model_selection import train_test_split\n",
    "from sklearn.metrics import mean_squared_error"
   ]
  },
  {
   "cell_type": "code",
   "execution_count": 2,
   "metadata": {
    "pycharm": {
     "name": "#%%\n"
    }
   },
   "outputs": [
    {
     "data": {
      "text/html": [
       "<div>\n",
       "<style scoped>\n",
       "    .dataframe tbody tr th:only-of-type {\n",
       "        vertical-align: middle;\n",
       "    }\n",
       "\n",
       "    .dataframe tbody tr th {\n",
       "        vertical-align: top;\n",
       "    }\n",
       "\n",
       "    .dataframe thead th {\n",
       "        text-align: right;\n",
       "    }\n",
       "</style>\n",
       "<table border=\"1\" class=\"dataframe\">\n",
       "  <thead>\n",
       "    <tr style=\"text-align: right;\">\n",
       "      <th></th>\n",
       "      <th>Open</th>\n",
       "      <th>High</th>\n",
       "      <th>Low</th>\n",
       "      <th>Close</th>\n",
       "      <th>Volume</th>\n",
       "      <th>Ex-Dividend</th>\n",
       "      <th>Split Ratio</th>\n",
       "      <th>Adj. Open</th>\n",
       "      <th>Adj. High</th>\n",
       "      <th>Adj. Low</th>\n",
       "      <th>Adj. Close</th>\n",
       "      <th>Adj. Volume</th>\n",
       "    </tr>\n",
       "    <tr>\n",
       "      <th>Date</th>\n",
       "      <th></th>\n",
       "      <th></th>\n",
       "      <th></th>\n",
       "      <th></th>\n",
       "      <th></th>\n",
       "      <th></th>\n",
       "      <th></th>\n",
       "      <th></th>\n",
       "      <th></th>\n",
       "      <th></th>\n",
       "      <th></th>\n",
       "      <th></th>\n",
       "    </tr>\n",
       "  </thead>\n",
       "  <tbody>\n",
       "    <tr>\n",
       "      <th>2004-08-19</th>\n",
       "      <td>100.01</td>\n",
       "      <td>104.06</td>\n",
       "      <td>95.96</td>\n",
       "      <td>100.335</td>\n",
       "      <td>44659000.0</td>\n",
       "      <td>0.0</td>\n",
       "      <td>1.0</td>\n",
       "      <td>50.159839</td>\n",
       "      <td>52.191109</td>\n",
       "      <td>48.128568</td>\n",
       "      <td>50.322842</td>\n",
       "      <td>44659000.0</td>\n",
       "    </tr>\n",
       "    <tr>\n",
       "      <th>2004-08-20</th>\n",
       "      <td>101.01</td>\n",
       "      <td>109.08</td>\n",
       "      <td>100.50</td>\n",
       "      <td>108.310</td>\n",
       "      <td>22834300.0</td>\n",
       "      <td>0.0</td>\n",
       "      <td>1.0</td>\n",
       "      <td>50.661387</td>\n",
       "      <td>54.708881</td>\n",
       "      <td>50.405597</td>\n",
       "      <td>54.322689</td>\n",
       "      <td>22834300.0</td>\n",
       "    </tr>\n",
       "    <tr>\n",
       "      <th>2004-08-23</th>\n",
       "      <td>110.76</td>\n",
       "      <td>113.48</td>\n",
       "      <td>109.05</td>\n",
       "      <td>109.400</td>\n",
       "      <td>18256100.0</td>\n",
       "      <td>0.0</td>\n",
       "      <td>1.0</td>\n",
       "      <td>55.551482</td>\n",
       "      <td>56.915693</td>\n",
       "      <td>54.693835</td>\n",
       "      <td>54.869377</td>\n",
       "      <td>18256100.0</td>\n",
       "    </tr>\n",
       "    <tr>\n",
       "      <th>2004-08-24</th>\n",
       "      <td>111.24</td>\n",
       "      <td>111.60</td>\n",
       "      <td>103.57</td>\n",
       "      <td>104.870</td>\n",
       "      <td>15247300.0</td>\n",
       "      <td>0.0</td>\n",
       "      <td>1.0</td>\n",
       "      <td>55.792225</td>\n",
       "      <td>55.972783</td>\n",
       "      <td>51.945350</td>\n",
       "      <td>52.597363</td>\n",
       "      <td>15247300.0</td>\n",
       "    </tr>\n",
       "    <tr>\n",
       "      <th>2004-08-25</th>\n",
       "      <td>104.76</td>\n",
       "      <td>108.00</td>\n",
       "      <td>103.88</td>\n",
       "      <td>106.000</td>\n",
       "      <td>9188600.0</td>\n",
       "      <td>0.0</td>\n",
       "      <td>1.0</td>\n",
       "      <td>52.542193</td>\n",
       "      <td>54.167209</td>\n",
       "      <td>52.100830</td>\n",
       "      <td>53.164113</td>\n",
       "      <td>9188600.0</td>\n",
       "    </tr>\n",
       "  </tbody>\n",
       "</table>\n",
       "</div>"
      ],
      "text/plain": [
       "              Open    High     Low    Close      Volume  Ex-Dividend  \\\n",
       "Date                                                                   \n",
       "2004-08-19  100.01  104.06   95.96  100.335  44659000.0          0.0   \n",
       "2004-08-20  101.01  109.08  100.50  108.310  22834300.0          0.0   \n",
       "2004-08-23  110.76  113.48  109.05  109.400  18256100.0          0.0   \n",
       "2004-08-24  111.24  111.60  103.57  104.870  15247300.0          0.0   \n",
       "2004-08-25  104.76  108.00  103.88  106.000   9188600.0          0.0   \n",
       "\n",
       "            Split Ratio  Adj. Open  Adj. High   Adj. Low  Adj. Close  \\\n",
       "Date                                                                   \n",
       "2004-08-19          1.0  50.159839  52.191109  48.128568   50.322842   \n",
       "2004-08-20          1.0  50.661387  54.708881  50.405597   54.322689   \n",
       "2004-08-23          1.0  55.551482  56.915693  54.693835   54.869377   \n",
       "2004-08-24          1.0  55.792225  55.972783  51.945350   52.597363   \n",
       "2004-08-25          1.0  52.542193  54.167209  52.100830   53.164113   \n",
       "\n",
       "            Adj. Volume  \n",
       "Date                     \n",
       "2004-08-19   44659000.0  \n",
       "2004-08-20   22834300.0  \n",
       "2004-08-23   18256100.0  \n",
       "2004-08-24   15247300.0  \n",
       "2004-08-25    9188600.0  "
      ]
     },
     "execution_count": 2,
     "metadata": {},
     "output_type": "execute_result"
    }
   ],
   "source": [
    "#获取数据集\n",
    "df = quandl.get('WIKI/GOOGL')\n",
    "df.head()"
   ]
  },
  {
   "cell_type": "code",
   "execution_count": 3,
   "metadata": {
    "pycharm": {
     "name": "#%%\n"
    }
   },
   "outputs": [
    {
     "name": "stdout",
     "output_type": "stream",
     "text": [
      "[[-1.39187095  2.33516806  0.23254018  4.46712802]\n",
      " [-1.37635178 -0.31135438  4.81828847  1.8207495 ]\n",
      " [-1.37423066  2.35004252 -0.79917922  1.26561472]\n",
      " ...\n",
      " [ 2.99737935 -0.50090092  0.33301614 -0.61156746]\n",
      " [ 2.7553098   0.01505419 -0.46778619 -0.24489949]\n",
      " [ 2.55960556  2.87565464 -1.90605746 -0.49425191]]\n",
      "[  69.0782379    67.83941377   68.91272699 ... 1026.55       1054.09\n",
      " 1006.94      ]\n"
     ]
    }
   ],
   "source": [
    "#数据处理\n",
    "from sklearn import preprocessing\n",
    "forecast_col = 'Adj. Close'  # 预测列变量\n",
    "forecast_out = int(math.ceil(0.01 * len(df)))  # 定于预测天数，数据长度是0.01\n",
    "df = df[['Adj. Open', 'Adj. High', 'Adj. Low', 'Adj. Close', 'Adj. Volume']]\n",
    "# HL_PCT为股票最高价与最低价的变化百分比\n",
    "df['HL_PCT'] = (df['Adj. High'] - df['Adj. Close']) / df['Adj. Close'] * 100.0\n",
    "# PCT_change为股票收盘价与开盘价的变化百分比\n",
    "df['PCT_change'] = (df['Adj. Close'] - df['Adj. Open']) / df['Adj. Open'] * 100.0\n",
    "# 为真正用到的特征字段\n",
    "df = df[['Adj. Close', 'HL_PCT', 'PCT_change', 'Adj. Volume']]\n",
    "df.fillna(-99999, inplace=True)  # scikit-learn不处理空数据，故要把空数据设置为难出现的值\n",
    "df['label'] = df[forecast_col].shift(-forecast_out)\n",
    "\n",
    "# 模型最后使用的数据是X,y，以及预测的数据X_lately\n",
    "X = np.array(df.drop(['label'], axis = 1))\n",
    "X = preprocessing.scale(X)\n",
    "X_lately = X[-forecast_out:]\n",
    "X = X[:-forecast_out]\n",
    "df.dropna(inplace=True)\n",
    "y = np.array(df['label'])\n",
    "\n",
    "print(X)\n",
    "print(y)"
   ]
  },
  {
   "cell_type": "code",
   "execution_count": 4,
   "metadata": {
    "pycharm": {
     "name": "#%%\n"
    }
   },
   "outputs": [],
   "source": [
    "#分割数据\n",
    "X_train, X_test, y_train, y_test = train_test_split(X, y, test_size=0.2, random_state=33)"
   ]
  },
  {
   "cell_type": "markdown",
   "metadata": {
    "pycharm": {
     "name": "#%% md\n"
    }
   },
   "source": [
    "## Adaboost"
   ]
  },
  {
   "cell_type": "code",
   "execution_count": 11,
   "metadata": {
    "pycharm": {
     "name": "#%%\n"
    }
   },
   "outputs": [
    {
     "name": "stdout",
     "output_type": "stream",
     "text": [
      "accuracy= 0.977580240007228\n",
      "均方误差:  1521.6039007847505\n",
      "代码执行时间: 1.432054042816162 s\n"
     ]
    }
   ],
   "source": [
    "from sklearn.ensemble import AdaBoostRegressor\n",
    "# 搭建AdaBoost模型\n",
    "start_time = time.time()\n",
    "regressor=AdaBoostRegressor(n_estimators=500, learning_rate=0.05, loss='square')\n",
    "regressor.fit(X_train,y_train)\n",
    "y_pred = regressor.predict(X_test)\n",
    "# 用测试数据评估准确性\n",
    "accuracy = regressor.score(X_test, y_test)\n",
    "print(\"accuracy=\",accuracy)\n",
    "mse = mean_squared_error(y_test, y_pred)\n",
    "print('均方误差: ', mse)\n",
    "end_time = time.time()\n",
    "execution_time = end_time - start_time\n",
    "print(f\"代码执行时间: {execution_time} s\")"
   ]
  },
  {
   "cell_type": "markdown",
   "metadata": {
    "pycharm": {
     "name": "#%% md\n"
    }
   },
   "source": [
    "## GBDT"
   ]
  },
  {
   "cell_type": "code",
   "execution_count": 12,
   "metadata": {
    "pycharm": {
     "name": "#%%\n"
    }
   },
   "outputs": [
    {
     "name": "stdout",
     "output_type": "stream",
     "text": [
      "accuracy= 0.9839798443571751\n",
      "均方误差:  1087.2699495962472\n",
      "代码执行时间: 1.3443052768707275 s\n"
     ]
    }
   ],
   "source": [
    "from sklearn.ensemble import GradientBoostingRegressor\n",
    "start_time = time.time()\n",
    "# 搭建GBDT模型\n",
    "regressor=GradientBoostingRegressor(n_estimators=500,max_depth=3,min_samples_split=5,\n",
    "                                    learning_rate=0.05,loss='squared_error')\n",
    "#n_estimators:弱分类器的个数;max depth:弱分类器 (CART回归树)的最大深度;min samples split:分内部节点所需的最小样本数\n",
    "# learning rate：学习率;loss:损失函数_均方误差损失函数\n",
    "#\n",
    "regressor.fit(X_train,y_train)\n",
    "y_pred = regressor.predict(X_test)\n",
    "# 用测试数据评估准确性\n",
    "accuracy = regressor.score(X_test, y_test)\n",
    "print(\"accuracy=\",accuracy)\n",
    "mse = mean_squared_error(y_test, y_pred)\n",
    "print('均方误差: ', mse)\n",
    "end_time = time.time()\n",
    "execution_time = end_time - start_time\n",
    "print(f\"代码执行时间: {execution_time} s\")"
   ]
  },
  {
   "cell_type": "markdown",
   "metadata": {
    "pycharm": {
     "name": "#%% md\n"
    }
   },
   "source": [
    "## XGBosot"
   ]
  },
  {
   "cell_type": "code",
   "execution_count": 13,
   "metadata": {
    "pycharm": {
     "name": "#%%\n"
    }
   },
   "outputs": [
    {
     "name": "stdout",
     "output_type": "stream",
     "text": [
      "accuracy= 0.9834564532061252\n",
      "均方误差:  1122.7919184902296\n",
      "代码执行时间: 0.13999342918395996 s\n"
     ]
    },
    {
     "name": "stderr",
     "output_type": "stream",
     "text": [
      "c:\\users\\hp\\appdata\\local\\programs\\python\\python38\\lib\\site-packages\\xgboost\\core.py:160: UserWarning: [19:59:59] WARNING: C:\\buildkite-agent\\builds\\buildkite-windows-cpu-autoscaling-group-i-0b3782d1791676daf-1\\xgboost\\xgboost-ci-windows\\src\\learner.cc:742: \n",
      "Parameters: { \"loss\", \"min_samples_split\" } are not used.\n",
      "\n",
      "  warnings.warn(smsg, UserWarning)\n"
     ]
    }
   ],
   "source": [
    "import xgboost as xg\n",
    "start_time = time.time()\n",
    "#搭建XGBoost模型\n",
    "regressor=xg.XGBRegressor(n_estimators=500,max_depth=3,min_samples_split=5,\n",
    "                                    learning_rate=0.05,loss='reg:linear')\n",
    "regressor.fit(X_train,y_train)\n",
    "y_pred = regressor.predict(X_test)\n",
    "# 用测试数据评估准确性\n",
    "accuracy = regressor.score(X_test, y_test)\n",
    "print(\"accuracy=\",accuracy)\n",
    "mse = mean_squared_error(y_test, y_pred)\n",
    "print('均方误差: ', mse)\n",
    "end_time = time.time()\n",
    "execution_time = end_time - start_time\n",
    "print(f\"代码执行时间: {execution_time} s\")"
   ]
  },
  {
   "cell_type": "markdown",
   "metadata": {
    "pycharm": {
     "name": "#%% md\n"
    }
   },
   "source": [
    "## LightGBM"
   ]
  },
  {
   "cell_type": "code",
   "execution_count": null,
   "metadata": {
    "collapsed": false,
    "pycharm": {
     "name": "#%%\n"
    }
   },
   "outputs": [],
   "source": [
    "import lightgbm as lgb\n",
    "start_time = time.time()\n",
    "#构建LightGBM模型\n",
    "regressor=lgb.LGBMRegressor(boosting_type= 'gbdt',n_estimators=500,max_depth=3,min_samples_split=5,\n",
    "                                    learning_rate=0.05,loss='regression')\n",
    "regressor.fit(X_train,y_train)\n",
    "y_pred = regressor.predict(X_test)\n",
    "# 用测试数据评估准确性\n",
    "accuracy = regressor.score(X_test, y_test)\n",
    "print(\"accuracy=\",accuracy)\n",
    "print(\"accuracy=\",accuracy)\n",
    "mse = mean_squared_error(y_test, y_pred)\n",
    "print('均方误差: ', mse)\n",
    "end_time = time.time()\n",
    "execution_time = end_time - start_time\n",
    "print(f\"代码执行时间: {execution_time} s\")"
   ]
  },
  {
   "cell_type": "code",
   "execution_count": 14,
   "metadata": {
    "pycharm": {
     "name": "#%%\n"
    },
    "scrolled": true
   },
   "outputs": [
    {
     "name": "stdout",
     "output_type": "stream",
     "text": [
      "[LightGBM] [Warning] Unknown parameter: lambdal1\n",
      "[LightGBM] [Warning] Unknown parameter: lambdal2\n",
      "[LightGBM] [Warning] Unknown parameter: lambdal1\n",
      "[LightGBM] [Warning] Unknown parameter: lambdal2\n",
      "[LightGBM] [Info] Auto-choosing col-wise multi-threading, the overhead of testing was 0.000093 seconds.\n",
      "You can set `force_col_wise=true` to remove the overhead.\n",
      "[LightGBM] [Info] Total Bins 1020\n",
      "[LightGBM] [Info] Number of data points in the train set: 2711, number of used features: 4\n",
      "[LightGBM] [Warning] Unknown parameter: lambdal1\n",
      "[LightGBM] [Warning] Unknown parameter: lambdal2\n",
      "[LightGBM] [Info] Start training from score 410.282820\n",
      "[LightGBM] [Warning] No further splits with positive gain, best gain: -inf\n",
      "[LightGBM] [Warning] No further splits with positive gain, best gain: -inf\n",
      "[LightGBM] [Warning] No further splits with positive gain, best gain: -inf\n",
      "[LightGBM] [Warning] No further splits with positive gain, best gain: -inf\n",
      "[LightGBM] [Warning] No further splits with positive gain, best gain: -inf\n",
      "[LightGBM] [Warning] No further splits with positive gain, best gain: -inf\n",
      "[LightGBM] [Warning] No further splits with positive gain, best gain: -inf\n",
      "[LightGBM] [Warning] No further splits with positive gain, best gain: -inf\n",
      "accuracy= 0.998703499126434\n",
      "均方误差:  85.97176309600258\n",
      "代码执行时间: 0.02599954605102539 s\n"
     ]
    }
   ],
   "source": [
    "import lightgbm as lgb\n",
    "start_time = time.time()\n",
    "\n",
    "#搭建XGBoost模型\n",
    "train_data = lgb.Dataset(X_train, y_train)\n",
    "validation_data = lgb.Dataset(X_test, y_test)\n",
    "params = {\n",
    "    'boosting_type': 'gbdt',\n",
    "    'objective': 'regression',\n",
    "    'lambdal1': 0.1,\n",
    "    'lambdal2':0.2,\n",
    "    'max_depth':3,\n",
    "    'learning_rate': 0.05,\n",
    "}\n",
    "\n",
    "gbm = lgb.train(params,train_data,valid_sets=[validation_data])\n",
    "# 使用训练好的模型进行预测\n",
    "y_test = gbm.predict(X_test, num_iteration=gbm.best_iteration)\n",
    "accuracy = regressor.score(X_test, y_test)\n",
    "print(\"accuracy=\",accuracy)\n",
    "mse = mean_squared_error(y_test, y_pred)\n",
    "print('均方误差: ', mse)\n",
    "end_time = time.time()\n",
    "execution_time = end_time - start_time\n",
    "print(f\"代码执行时间: {execution_time} s\")"
   ]
  }
 ],
 "metadata": {
  "kernelspec": {
   "display_name": "Python 3 (ipykernel)",
   "language": "python",
   "name": "python3"
  },
  "language_info": {
   "codemirror_mode": {
    "name": "ipython",
    "version": 3
   },
   "file_extension": ".py",
   "mimetype": "text/x-python",
   "name": "python",
   "nbconvert_exporter": "python",
   "pygments_lexer": "ipython3",
   "version": "3.8.6"
  }
 },
 "nbformat": 4,
 "nbformat_minor": 1
}
