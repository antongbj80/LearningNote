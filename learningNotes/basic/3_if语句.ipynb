{
 "cells": [
  {
   "cell_type": "markdown",
   "metadata": {},
   "source": [
    "练习 5.5 外星人颜色1  \n",
    "假设玩家在游戏中消灭了一个外星人，请创建一个名为alien_color的变量，并将其赋值为'green'、'yellow'或'red'。\n",
    "- 如果外星人是绿色的，就打印一条消息，指出玩家获得了5分。\n",
    "- 如果外星人是黄色的，就打印一条消息，指出玩家获得了10分。\n",
    "- 如果外星人是红色的，就打印一条消息，指出玩家获得了15分。\n",
    "- 编写这个程序的三个版本，分别在外星人为绿色、黄色和红色时打印一条消息。"
   ]
  },
  {
   "cell_type": "code",
   "execution_count": 18,
   "metadata": {},
   "outputs": [
    {
     "name": "stdout",
     "output_type": "stream",
     "text": [
      "You got 5 point!\n",
      "You got 10 point!\n",
      "You got 15 point!\n"
     ]
    }
   ],
   "source": [
    "def JudgeColor(alien_color):\n",
    "    if alien_color == 'green':\n",
    "        point = 5\n",
    "    elif alien_color == 'yellow':\n",
    "        point = 10\n",
    "    else:\n",
    "        point = 15\n",
    "    print(f\"You got {point} point!\")\n",
    "\n",
    "alien_color1 = 'green'\n",
    "JudgeColor(alien_color1)\n",
    "alien_color2 = 'yellow'\n",
    "JudgeColor(alien_color2)\n",
    "alien_color3 = 'red'\n",
    "JudgeColor(alien_color3)"
   ]
  },
  {
   "cell_type": "markdown",
   "metadata": {},
   "source": [
    "练习 5.6 人生的不同阶段  \n",
    "设置变量age的值，再编写一个if-elif-else结构，根据age的值判断这个人处于人生的哪个阶段。\n",
    "- 如果年龄小于2岁，就打印一条消息，指出这个人是婴儿。\n",
    "- 如果年龄为2（含）～4岁，就打印一条消息，指出这个人是幼儿。\n",
    "- 如果年龄为4（含）～13岁，就打印一条消息，指出这个人是儿童。\n",
    "- 如果年龄为13（含）～18岁，就打印一条消息，指出这个人是少年。\n",
    "- 如果年龄为18（含）～65岁，就打印一条消息，指出这个人是中青年人。\n",
    "- 如果年龄达到65岁，就打印一条消息，指出这个人是老年人。"
   ]
  },
  {
   "cell_type": "code",
   "execution_count": 17,
   "metadata": {},
   "outputs": [
    {
     "name": "stdout",
     "output_type": "stream",
     "text": [
      "这个人是老年人。\n"
     ]
    }
   ],
   "source": [
    "def JudgeAge(age):\n",
    "    if age < 2:\n",
    "        age = '婴儿'\n",
    "    elif age < 4:\n",
    "        age = '幼儿'\n",
    "    elif age < 13:\n",
    "        age = '儿童'\n",
    "    elif age < 18:\n",
    "        age = '少年'\n",
    "    elif age < 65:\n",
    "        age = '中青年人'\n",
    "    else:\n",
    "        age = '老年人'\n",
    "    print(f\"这个人是{age}。\")\n",
    "\n",
    "age = 65\n",
    "JudgeAge(age)"
   ]
  },
  {
   "cell_type": "markdown",
   "metadata": {},
   "source": [
    "练习 5.8 以特殊方式跟管理员打招呼\n",
    "创建一个至少包含5个用户名的列表，并且其中一个用户名为'admin'。想象你要编写代码，在每个用户登录网站后都打印一条问候消息。遍历用户名列表，向每个用户打印一条问候消息。\n",
    "- 如果用户名为'admin'，就打印一条特殊的问候消息，如下所示。\n",
    "Hello admin, would you like to see a status report?\n",
    "- 否则，打印一条普通的问候消息，如下所示。\n",
    "Hello Jaden, thank you for logging in again."
   ]
  },
  {
   "cell_type": "code",
   "execution_count": 21,
   "metadata": {},
   "outputs": [
    {
     "name": "stdout",
     "output_type": "stream",
     "text": [
      "Hello eric, thank you for logging in again.\n",
      "Hello willie, thank you for logging in again.\n",
      "Hello admin, would you like to see a status report?\n",
      "Hello erin, thank you for logging in again.\n",
      "Hello ever, thank you for logging in again.\n"
     ]
    }
   ],
   "source": [
    "usernames = ['eric', 'willie', 'admin', 'erin', 'ever']\n",
    "for username in usernames:\n",
    "    if username == 'admin':\n",
    "        print(f\"Hello {username}, would you like to see a status report?\")\n",
    "    else:\n",
    "        print(f\"Hello {username}, thank you for logging in again.\")"
   ]
  },
  {
   "cell_type": "markdown",
   "metadata": {},
   "source": [
    "练习 5.9 处理没有用户的情形\n",
    "在为练习5.8编写的程序中，添加一条if语句，检查用户名列表是否为空。\n",
    "- 如果为空，就打印如下消息。\n",
    "We need to find some users!\n",
    "- 删除列表中的所有用户名，确认将打印正确的消息"
   ]
  },
  {
   "cell_type": "code",
   "execution_count": 50,
   "metadata": {},
   "outputs": [
    {
     "name": "stdout",
     "output_type": "stream",
     "text": [
      "[]\n",
      "We need to find some users!\n"
     ]
    }
   ],
   "source": [
    "usernames = ['eric', 'willie', 'admin', 'erin', 'ever']\n",
    "usernames.clear()\n",
    "#或者下面这种方式：\n",
    "# for i in range(0,len(usernames)):\n",
    "#     usernames.pop()\n",
    "#     print (usernames)\n",
    "\n",
    "print(usernames)\n",
    "\n",
    "if usernames:\n",
    "    for username in usernames:\n",
    "        if username == 'admin':\n",
    "            print(f\"Hello {username}, would you like to see a status report?\")\n",
    "        else:\n",
    "            print(f\"Hello {username}, thank you for logging in again.\")\n",
    "else:\n",
    "    print(\"We need to find some users!\")"
   ]
  },
  {
   "cell_type": "markdown",
   "metadata": {},
   "source": [
    "练习 5.10 检查用户名\n",
    "按照下面的说明编写一个程序，模拟网站如何确保每个用户的用户名都独一无二。\n",
    "- 创建一个至少包含5个用户名的列表，并将其命名为current_users。\n",
    "- 再创建一个包含5个用户名的列表，将其命名为new_users，并确保其中有一两个用名也在列表current_users中。\n",
    "- 遍历列表new_users，检查其中的每个用户名是否已被使用。如果是，就打印一条消息，指出需要输入别的用户名；否则，打印一条消息，指出这个用户名未被使用。\n",
    "- 确保比较时不区分大小写。换句话说，如果用户名'John'已被使用，应拒绝用户名'JOHN'。（为此，需要创建列表current_users的副本，其中包含当前所有用户名的全小写版本。）"
   ]
  },
  {
   "cell_type": "code",
   "execution_count": 53,
   "metadata": {},
   "outputs": [
    {
     "name": "stdout",
     "output_type": "stream",
     "text": [
      "Great, sarah is still available.\n",
      "Great, Willie is still available.\n",
      "Great, PHIL is still available.\n",
      "Sorry ever, that name is taken.\n",
      "Great, Iona is still available.\n"
     ]
    }
   ],
   "source": [
    "current_users = ['eric', 'willie', 'admin', 'erin', 'Ever']\n",
    "new_users = ['sarah', 'Willie', 'PHIL', 'ever', 'Iona']\n",
    "current_users_lower = [user.lower() for user in current_users]\n",
    "\n",
    "for new_user in new_users:\n",
    "    if new_user in current_users or new_user in current_users_lower:\n",
    "        print(f\"Sorry {new_user}, that name is taken.\")\n",
    "    else:\n",
    "        print(f\"Great, {new_user} is still available.\")"
   ]
  },
  {
   "cell_type": "markdown",
   "metadata": {},
   "source": [
    "练习 5.11 序数\n",
    "序数表示顺序位置，如1st和2nd。序数大多以th结尾，只有1st、2nd、3rd例外。\n",
    "- 在一个列表中存储数字1～9。\n",
    "- 遍历这个列表。\n",
    "- 在循环中使用一个if-elif-else结构，打印每个数字对应的序数。输出内容应为\"1st 2nd 3rd 4th 5th 6th 7th 8th 9th\"，每个序数都独占一行。"
   ]
  },
  {
   "cell_type": "code",
   "execution_count": 54,
   "metadata": {},
   "outputs": [
    {
     "name": "stdout",
     "output_type": "stream",
     "text": [
      "1st\n",
      "2nd\n",
      "3rd\n",
      "4th\n",
      "5th\n",
      "6th\n",
      "7th\n",
      "8th\n",
      "9th\n"
     ]
    }
   ],
   "source": [
    "numbers = list(range(1,10))\n",
    "\n",
    "for number in numbers:\n",
    "    if number == 1:\n",
    "        print(f\"{number}st\")\n",
    "    elif number == 2:\n",
    "        print(f\"{number}nd\")\n",
    "    elif number == 3:\n",
    "        print(f\"{number}rd\")\n",
    "    else:\n",
    "        print(f\"{number}th\")"
   ]
  }
 ],
 "metadata": {
  "kernelspec": {
   "display_name": "Python 3",
   "language": "python",
   "name": "python3"
  },
  "language_info": {
   "codemirror_mode": {
    "name": "ipython",
    "version": 3
   },
   "file_extension": ".py",
   "mimetype": "text/x-python",
   "name": "python",
   "nbconvert_exporter": "python",
   "pygments_lexer": "ipython3",
   "version": "3.8.6"
  }
 },
 "nbformat": 4,
 "nbformat_minor": 2
}
