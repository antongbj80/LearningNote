{
 "cells": [
  {
   "cell_type": "markdown",
   "metadata": {},
   "source": [
    "练习 8.1 消息  \n",
    "编写一个名为display_message()的函数，让它打印一个句子，指出本章的主题是什么。调用这个函数，确认显示的消息正确无误。"
   ]
  },
  {
   "cell_type": "code",
   "execution_count": 1,
   "metadata": {},
   "outputs": [
    {
     "name": "stdout",
     "output_type": "stream",
     "text": [
      "I'm learning to store code in functions.\n"
     ]
    }
   ],
   "source": [
    "def display_message():\n",
    "    print(\"I'm learning to store code in functions.\")\n",
    "display_message()"
   ]
  },
  {
   "cell_type": "markdown",
   "metadata": {},
   "source": [
    "练习 8.2 喜欢的书  \n",
    "编写一个名为favorite_book()的函数，其中包含一个名为title的形参。"
   ]
  },
  {
   "cell_type": "code",
   "execution_count": 3,
   "metadata": {},
   "outputs": [
    {
     "name": "stdout",
     "output_type": "stream",
     "text": [
      "One of my favorite books is Alice In Wonderland\n",
      "One of my favorite books is The Dream Of The Red Chamber \n"
     ]
    }
   ],
   "source": [
    "def favorite_book(title):\n",
    "    print(f\"One of my favorite books is {title.title()}\")\n",
    "\n",
    "favorite_book('Alice in Wonderland')\n",
    "favorite_book('The Dream of the Red Chamber ')"
   ]
  },
  {
   "cell_type": "markdown",
   "metadata": {},
   "source": [
    "练习 8.3 T 恤  \n",
    "编写一个名为make_shirt()的函数，它接受一个尺码以及要印到T恤上的字样。这个函数应该打印一个句子，简要地说明T恤的尺码和字样。  \n",
    "先使用位置实参调用这个函数来制作一件 T 恤，再使用关键字实参来调用这个函数。  "
   ]
  },
  {
   "cell_type": "code",
   "execution_count": 6,
   "metadata": {},
   "outputs": [
    {
     "name": "stdout",
     "output_type": "stream",
     "text": [
      "\n",
      "I'm going to make a large t-shirt.\n",
      "It will say, \"I love python\"\n",
      "\n",
      "I'm going to make a medium t-shirt.\n",
      "It will say, \"Readability counts.\"\n"
     ]
    }
   ],
   "source": [
    "def make_shirt(size,message):\n",
    "    print(f\"\\nI'm going to make a {size} t-shirt.\")\n",
    "    print(f'It will say, \"{message}\"')\n",
    "\n",
    "make_shirt('large','I love python')\n",
    "make_shirt(message=\"Readability counts.\", size='medium')"
   ]
  },
  {
   "cell_type": "markdown",
   "metadata": {},
   "source": [
    "练习 8.4 大号 T 恤  \n",
    "修改make_shirt()函数，使其在默认情况下制作一件印有“I love Python”字样的大号T恤。调用这个函数分别制作一件印有默认字样的大号T恤，一件印有默认字样的中号T恤，以及一件印有其他字样的T恤（尺码无关紧要）。"
   ]
  },
  {
   "cell_type": "code",
   "execution_count": 9,
   "metadata": {},
   "outputs": [
    {
     "name": "stdout",
     "output_type": "stream",
     "text": [
      "\n",
      "I'm going to make a large t-shirt.\n",
      "It will say, \"I love python\"\n",
      "\n",
      "I'm going to make a medium t-shirt.\n",
      "It will say, \"I love python\"\n",
      "\n",
      "I'm going to make a medium t-shirt.\n",
      "It will say, \"I love python\"\n",
      "\n",
      "I'm going to make a medium t-shirt.\n",
      "It will say, \"Readability counts.\"\n",
      "\n",
      "I'm going to make a large t-shirt.\n",
      "It will say, \"Readability counts.\"\n"
     ]
    }
   ],
   "source": [
    "def make_shirt(size='large', message='I love python'):\n",
    "    print(f\"\\nI'm going to make a {size} t-shirt.\")\n",
    "    print(f'It will say, \"{message}\"')\n",
    "\n",
    "#一件印有默认字样的大号T恤\n",
    "make_shirt()\n",
    "\n",
    "#一件印有默认字样的中号T恤\n",
    "make_shirt('medium')\n",
    "make_shirt(size='medium')\n",
    "\n",
    "#一件印有其他字样的T恤（尺码无关紧要）\n",
    "make_shirt(message=\"Readability counts.\", size='medium')\n",
    "make_shirt(message=\"Readability counts.\")"
   ]
  },
  {
   "cell_type": "markdown",
   "metadata": {},
   "source": [
    "练习 8.5 城市  \n",
    "编写一个名为describe_city()的函数，它接受一座城市的名字以及该城市所属的国家。这个函数应该打印一个像下面这样简单的句子。\n",
    "Reykjavik is in Iceland.  \n",
    "给用于存储国家的形参指定默认值。为三座不同的城市调用这个函数，其中至少有一座城市不属于默认的国家  "
   ]
  },
  {
   "cell_type": "code",
   "execution_count": 1,
   "metadata": {},
   "outputs": [
    {
     "name": "stdout",
     "output_type": "stream",
     "text": [
      "Santiago is in Chile\n",
      "Reykjavik is in Iceland\n",
      "Punta Arenas is in Chile\n"
     ]
    }
   ],
   "source": [
    "def describe_city(city,country='chile'):\n",
    "    msg = f\"{city.title()} is in {country.title()}\"\n",
    "    print(msg)\n",
    "describe_city('santiago')\n",
    "describe_city('reykjavik', 'iceland')\n",
    "describe_city('punta arenas')"
   ]
  },
  {
   "cell_type": "markdown",
   "metadata": {},
   "source": [
    "练习 8.6 城市名  \n",
    "编写一个名为city_country()的函数，它接受城市的名称及其所属的国家。这个函数应  返回一个格式类似于下面的字符串：\n",
    "\"Santiago, Chile\"  \n",
    "至少使用三个城市国家对调用这个函数，并打印它返回的值。"
   ]
  },
  {
   "cell_type": "code",
   "execution_count": 2,
   "metadata": {},
   "outputs": [
    {
     "name": "stdout",
     "output_type": "stream",
     "text": [
      "Beijing,China\n",
      "Santiago,Chile\n",
      "Longyearbyen,Svalbard\n"
     ]
    }
   ],
   "source": [
    "def city_country(city,country):\n",
    "    msg = f\"{city.title()},{country.title()}\"\n",
    "    return msg\n",
    "\n",
    "city =city_country('beijing','China')\n",
    "print(city)\n",
    "city = city_country('santiago', 'chile')\n",
    "print(city)\n",
    "city = city_country('longyearbyen', 'svalbard')\n",
    "print(city)"
   ]
  },
  {
   "cell_type": "markdown",
   "metadata": {},
   "source": [
    "练习 8.8 用户的专辑 \n",
    "在为练习8.7编写的程序 中，编写一个while循环，让用户输入歌手名和专辑名。获取这些信息后，使用它们来调用make_album()函数并将创建的字典打印出来。在这个while循环中，务必提供退出途径。"
   ]
  },
  {
   "cell_type": "code",
   "execution_count": 7,
   "metadata": {},
   "outputs": [
    {
     "name": "stdout",
     "output_type": "stream",
     "text": [
      "{'singer_name': 'Mary', 'title_name': 'Love'}\n",
      "{'singer_name': 'Py', 'title_name': 'My Love', 'number': '5'}\n"
     ]
    }
   ],
   "source": [
    "def make_album(singer,title,number=None):\n",
    "    album = {'singer_name':singer.title(),'title_name':title.title()}\n",
    "    if number:\n",
    "        album['number'] = number\n",
    "    return album\n",
    "\n",
    "while True:\n",
    "    singer_name = input(\"Who's the artist? \")\n",
    "    title_name = input(\"\\nWhat album are you thinking of?\")\n",
    "    number_songs = input(\"How many songs in this album? \")\n",
    "    album = make_album(singer_name,title_name,number_songs)\n",
    "    print(album)\n",
    "\n",
    "    #是否继续\n",
    "    repeat = input(\"Whether to continue the investigation?(yes/no)\")\n",
    "    if repeat == 'no':\n",
    "        break\n"
   ]
  },
  {
   "cell_type": "markdown",
   "metadata": {},
   "source": [
    "练习 8.9 消息  \n",
    "创建一个列表，其中包含一系列简短的文本消息。将这个列表传递给一个名为show_messages()的函数，这个函数会打印列表中的每条文本消息。  "
   ]
  },
  {
   "cell_type": "code",
   "execution_count": 8,
   "metadata": {},
   "outputs": [
    {
     "name": "stdout",
     "output_type": "stream",
     "text": [
      "hello there\n",
      "how are u?\n",
      ":)\n"
     ]
    }
   ],
   "source": [
    "def show_message(messages):\n",
    "    for message in messages:\n",
    "        print(message)\n",
    "messages = [\"hello there\", \"how are u?\", \":)\"]\n",
    "show_message(messages)"
   ]
  },
  {
   "cell_type": "markdown",
   "metadata": {},
   "source": [
    "练习 8.10 发送消息  \n",
    "在为练习8.9编写的程序中，编写一个名为send_messages()的函数，将每条消息都打印出来并移到一个名为sent_messages的列表中。调用send_messages()函数，再将两个列表都打印出来，确认把消息移到了正确的列表中。  \n",
    "修改为练习8.10编写的程序，在调用函数send_messages()时，向它传递消息列表的副本。\n",
    "调用send_messages()函数后，将两个列表都打印出来，确认原始列表保留了所有的消息。  "
   ]
  },
  {
   "cell_type": "code",
   "execution_count": 27,
   "metadata": {},
   "outputs": [
    {
     "name": "stdout",
     "output_type": "stream",
     "text": [
      "--send_messages--\n",
      "hello there\n",
      ":)\n",
      "how are u?\n",
      "\n",
      "--Original list--\n",
      "hello there\n",
      "how are u?\n",
      ":)\n",
      "\n",
      "--Final list--\n",
      "hello there\n",
      ":)\n",
      "how are u?\n"
     ]
    }
   ],
   "source": [
    "def send_messages(messages,sent_messages):\n",
    "    print(\"--send_messages--\")\n",
    "    while messages:\n",
    "        for message in messages:\n",
    "            print(message)\n",
    "            sent_messages.append(message)\n",
    "            messages.remove(message)\n",
    "\n",
    "def show_messages(msgs):\n",
    "    for msg in msgs:\n",
    "        print(msg)\n",
    "\n",
    "messages = [\"hello there\", \"how are u?\", \":)\"]\n",
    "sent_messages = []\n",
    "\n",
    "\n",
    "send_messages(messages[:],sent_messages)\n",
    "print(\"\\n--Original list(message)--\")\n",
    "show_messages(messages)\n",
    "print(\"\\n--Final list(sent_message)--\")\n",
    "show_messages(sent_messages)"
   ]
  },
  {
   "cell_type": "markdown",
   "metadata": {},
   "source": [
    "练习 8.12 三明治  \n",
    "编写一个函数，它接受顾客要在三明治中添加的一系列食材。这个函数只有一个形参（它收集函数调用中提供的所有食材），并打印一条消息，对顾客点的三明治进行概述。调用这个函数三次，每次都提供不同数量的实参。"
   ]
  },
  {
   "cell_type": "code",
   "execution_count": 28,
   "metadata": {},
   "outputs": [
    {
     "name": "stdout",
     "output_type": "stream",
     "text": [
      "\n",
      "I'll make you a great sandwich:\n",
      "-roast beef\n",
      "-cheddar cheese\n",
      "-lettuce\n",
      "-honey dijon\n",
      "Your sandwich is ready!\n",
      "\n",
      "I'll make you a great sandwich:\n",
      "-turkey\n",
      "-apple slices\n",
      "-honey mustard\n",
      "Your sandwich is ready!\n",
      "\n",
      "I'll make you a great sandwich:\n",
      "-peanut butter\n",
      "-strawberry jam\n",
      "Your sandwich is ready!\n"
     ]
    }
   ],
   "source": [
    "def make_sandwich(*items):\n",
    "    print(\"\\nI'll make you a great sandwich:\")\n",
    "    for item in items:\n",
    "        print(f\"-{item}\")\n",
    "    print(\"Your sandwich is ready!\")\n",
    "    \n",
    "make_sandwich('roast beef', 'cheddar cheese', 'lettuce', 'honey dijon')\n",
    "make_sandwich('turkey', 'apple slices', 'honey mustard')\n",
    "make_sandwich('peanut butter', 'strawberry jam')\n",
    "\n"
   ]
  },
  {
   "cell_type": "markdown",
   "metadata": {},
   "source": [
    "练习8.13  \n",
    "调用build_profile()来创建你的简历，在调用这个函数是，指定你的名和姓，以及三个用来描述你的键值对"
   ]
  },
  {
   "cell_type": "code",
   "execution_count": 29,
   "metadata": {},
   "outputs": [
    {
     "name": "stdout",
     "output_type": "stream",
     "text": [
      "{'location': 'princeton', 'field': 'physics', 'first_name': 'albert', 'last_name': 'einsten'}\n"
     ]
    }
   ],
   "source": [
    "def build_profile(first,last,**user_info):\n",
    "    user_info[\"first_name\"] = first\n",
    "    user_info[\"last_name\"] = last\n",
    "    return user_info\n",
    "\n",
    "user_profile = build_profile('albert','einsten',location='princeton',field='physics')\n",
    "print(user_profile)"
   ]
  },
  {
   "cell_type": "markdown",
   "metadata": {},
   "source": [
    "练习 8.14 汽车  \n",
    "编写一个函数，将一辆汽车的信息存储在字典中。这个函数总是接受制造商和型号，还接受任意数量的关键字实参。在调用这个函数时，提供必不可少的信息，以及两个名值对，如颜色和选装配件。这个函数必须能够像下面这样调用：  \n",
    "car = make_car('subaru', 'outback', color='blue', tow_package=True)  \n",
    "打印返回的字典，确认正确地处理了所有的信息。"
   ]
  },
  {
   "cell_type": "code",
   "execution_count": 35,
   "metadata": {},
   "outputs": [
    {
     "name": "stdout",
     "output_type": "stream",
     "text": [
      "{'color': 'blue', 'tow_package': True, 'manufacturer': 'subaru', 'model': 'outback'}\n",
      "{'year': 1991, 'color': 'white', 'headlights': 'popup', 'manufacturer': 'honda', 'model': 'accord'}\n"
     ]
    }
   ],
   "source": [
    "def make_car(manufacturer, model, **car_dict):\n",
    "    car_dict[\"manufacturer\"] = manufacturer\n",
    "    car_dict[\"model\"] = model\n",
    "    return car_dict\n",
    "\n",
    "my_outback = make_car('subaru', 'outback', color='blue', tow_package=True)\n",
    "print(my_outback)\n",
    "\n",
    "my_old_accord = make_car('honda', 'accord', year=1991, color='white',headlights='popup')\n",
    "print(my_old_accord)"
   ]
  },
  {
   "cell_type": "code",
   "execution_count": 42,
   "metadata": {},
   "outputs": [
    {
     "name": "stdout",
     "output_type": "stream",
     "text": [
      "{'manufacturer': 'Subaru', 'model': 'Outback', 'color': 'blue', 'tow_package': True}\n",
      "{'manufacturer': 'Honda', 'model': 'Accord', 'year': 1991, 'color': 'white', 'headlights': 'popup'}\n"
     ]
    }
   ],
   "source": [
    "#方法2正序输出\n",
    "def make_car(manufacturer, model, **options):\n",
    "    \"\"\"创建一个表示汽车的字典\"\"\"\n",
    "    car_dict = {\n",
    "    'manufacturer': manufacturer.title(),\n",
    "    'model': model.title(),\n",
    "    }\n",
    "    # print(options.items())\n",
    "    for option, value in options.items():\n",
    "        car_dict[option] = value\n",
    "        # print(f\"information:{option} value:{value}\")\n",
    "    return car_dict\n",
    "\n",
    "my_outback = make_car('subaru', 'outback', color='blue', tow_package=True)\n",
    "print(my_outback)\n",
    "\n",
    "my_old_accord = make_car('honda', 'accord', year=1991, color='white',headlights='popup')\n",
    "print(my_old_accord)"
   ]
  },
  {
   "cell_type": "markdown",
   "metadata": {},
   "source": [
    "练习 8.15 打印模型  \n",
    "将示例printing_models.py中的函数放在一个名为printing_functions.py的文件中。在printing_models.py的开头编写一条import语句，并修改这个文件以使用导入的函数。  "
   ]
  },
  {
   "cell_type": "code",
   "execution_count": 48,
   "metadata": {},
   "outputs": [
    {
     "name": "stdout",
     "output_type": "stream",
     "text": [
      "Printing model: iphone case\n",
      "Printing model: dodecahedron\n",
      "Printing model: robot pendant\n",
      "\n",
      "The following models have been printed:\n",
      "iphone case\n",
      "dodecahedron\n",
      "robot pendant\n"
     ]
    }
   ],
   "source": [
    "#第一种\n",
    "import printing_fuctions\n",
    "unprinted_designs = ['iphone case', 'robot pendant', 'dodecahedron']\n",
    "completed_models = []\n",
    "printing_fuctions.print_models(unprinted_designs, completed_models)\n",
    "printing_fuctions.show_completed_models(completed_models)\n",
    "\n",
    "\n",
    "#第二种\n",
    "from printing_fuctions import print_models,show_completed_models\n",
    "unprinted_designs = ['iphone case', 'robot pendant', 'dodecahedron']\n",
    "completed_models = []\n",
    "print_models(unprinted_designs, completed_models)\n",
    "show_completed_models(completed_models)\n",
    "\n",
    "\n",
    "#第三种\n",
    "from printing_fuctions import print_models as pm\n",
    "from printing_fuctions import show_completed_models as scm\n",
    "unprinted_designs = ['iphone case', 'robot pendant', 'dodecahedron']\n",
    "completed_models = []\n",
    "pm(unprinted_designs, completed_models)\n",
    "scm(completed_models)\n",
    "\n",
    "\n",
    "#第四种\n",
    "import printing_fuctions as pf\n",
    "unprinted_designs = ['iphone case', 'robot pendant', 'dodecahedron']\n",
    "completed_models = []\n",
    "pf.print_models(unprinted_designs, completed_models)\n",
    "pf.show_completed_models(completed_models)\n",
    "\n",
    "\n",
    "#第五种\n",
    "from printing_fuctions import *\n",
    "unprinted_designs = ['iphone case', 'robot pendant', 'dodecahedron']\n",
    "completed_models = []\n",
    "print_models(unprinted_designs, completed_models)\n",
    "show_completed_models(completed_models)\n"
   ]
  }
 ],
 "metadata": {
  "kernelspec": {
   "display_name": "Python 3",
   "language": "python",
   "name": "python3"
  },
  "language_info": {
   "codemirror_mode": {
    "name": "ipython",
    "version": 3
   },
   "file_extension": ".py",
   "mimetype": "text/x-python",
   "name": "python",
   "nbconvert_exporter": "python",
   "pygments_lexer": "ipython3",
   "version": "3.8.6"
  }
 },
 "nbformat": 4,
 "nbformat_minor": 2
}
