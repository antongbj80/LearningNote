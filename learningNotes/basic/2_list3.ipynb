{
 "cells": [
  {
   "cell_type": "markdown",
   "source": [
    "列表前边部分使用网页版jupyter notebook打开"
   ],
   "metadata": {
    "collapsed": false,
    "pycharm": {
     "name": "#%% md\n"
    }
   }
  },
  {
   "cell_type": "markdown",
   "source": [
    "###\n",
    "前一部分总结：\n",
    "- 当需要记录当前被删除的元素时使用pop(索引),不添加索引就是最后一个,不需要记录可以直接使用del list[索引]\n",
    "- 根据值删除元素，使用remove()方法,需要注意，remove()只删除第一个指定的值，若需删除多个，则需要使用循环进行删除\n",
    "\n",
    "- 插入 insert(索引，'元素');\n",
    "- 末尾追加 append('元素');\n",
    "- 修改 列表[] = \"元素\"\n",
    "###"
   ],
   "metadata": {
    "collapsed": false,
    "pycharm": {
     "name": "#%% md\n"
    }
   }
  },
  {
   "cell_type": "markdown",
   "source": [
    "练习 3.1 姓名 将一些朋友的姓名存储在一个列表中，并将其命名为names。依次访问该列表的每个元素，从而将每个朋友的姓名都打印出来。"
   ],
   "metadata": {
    "collapsed": false,
    "pycharm": {
     "name": "#%% md\n"
    }
   }
  },
  {
   "cell_type": "code",
   "execution_count": 3,
   "metadata": {
    "collapsed": true,
    "pycharm": {
     "name": "#%%\n"
    }
   },
   "outputs": [
    {
     "name": "stdout",
     "output_type": "stream",
     "text": [
      "ron\n",
      "tyler\n",
      "dani\n"
     ]
    }
   ],
   "source": [
    "names = ['ron', 'tyler', 'dani']\n",
    "print(names[0])\n",
    "print(names[1])\n",
    "print(names[2])"
   ]
  },
  {
   "cell_type": "markdown",
   "source": [
    "练习 3.2 问候语\n",
    "继续使用练习3.1中的列表，但不打印每个朋友的姓名，而是为每人打印一条消息。每条消息都包含相同的问候语，但抬头为相应朋友的姓名。"
   ],
   "metadata": {
    "collapsed": false,
    "pycharm": {
     "name": "#%% md\n"
    }
   }
  },
  {
   "cell_type": "code",
   "execution_count": 13,
   "outputs": [
    {
     "name": "stdout",
     "output_type": "stream",
     "text": [
      "Hello my friend,Ron\n",
      "Hello my friend,Tyler\n",
      "Hello my friend,Dani\n"
     ]
    }
   ],
   "source": [
    "names = ['ron', 'tyler', 'dani']\n",
    "msg = 'Hello my friend'\n",
    "for i in  names:\n",
    "    print(f\"{msg},{i.title()}\")"
   ],
   "metadata": {
    "collapsed": false,
    "pycharm": {
     "name": "#%%\n"
    }
   }
  },
  {
   "cell_type": "markdown",
   "source": [
    "练习 3.4 嘉宾名单\n",
    "如果你可以邀请任何人一起共进晚餐（无论是在世的还是故去的），你会邀请哪些人？请创建一个列表，其中包含至少三个你想邀请的人，然后使用这个表打印消息，邀请这些人都来与你共进晚餐。"
   ],
   "metadata": {
    "collapsed": false,
    "pycharm": {
     "name": "#%% md\n"
    }
   }
  },
  {
   "cell_type": "code",
   "execution_count": 14,
   "outputs": [
    {
     "name": "stdout",
     "output_type": "stream",
     "text": [
      "Guido Van Rossum,please come to dinner.\n",
      "Jack Turner,please come to dinner.\n",
      "Lynn Hill,please come to dinner.\n"
     ]
    }
   ],
   "source": [
    "guests = ['guido van rossum', 'jack turner', 'lynn hill']\n",
    "msg = \"please come to dinner\"\n",
    "for i in guests:\n",
    "    print(f\"{i.title()},{msg}.\")"
   ],
   "metadata": {
    "collapsed": false,
    "pycharm": {
     "name": "#%%\n"
    }
   }
  },
  {
   "cell_type": "markdown",
   "source": [
    "练习 3.5 修改嘉宾名单\n",
    "你刚得知有位嘉宾无法赴约，因此需要另外邀请一位嘉宾。\n",
    "以完成练习3.4时编写的程序为基础，在程序末尾添加函数调用print()，指出哪位嘉\n",
    "宾无法赴约。\n",
    "修改嘉宾名单，将无法赴约的嘉宾的姓名替换为新邀请的嘉宾的姓名。\n",
    "再次打印一系列消息，向名单中的每位嘉宾发出邀请。"
   ],
   "metadata": {
    "collapsed": false,
    "pycharm": {
     "name": "#%% md\n"
    }
   }
  },
  {
   "cell_type": "code",
   "execution_count": 21,
   "outputs": [
    {
     "name": "stdout",
     "output_type": "stream",
     "text": [
      "Guido Van Rossum,please come to dinner.\n",
      "Jack Turner,please come to dinner.\n",
      "Lynn Hill,please come to dinner.\n",
      "\n",
      "Sorry, Jack Turner can't make it to dinner.\n",
      "\n",
      "Guido Van Rossum,please come to dinner.\n",
      "Mary,please come to dinner.\n",
      "Lynn Hill,please come to dinner.\n",
      "\n",
      "Sorry, Mary can't make it to dinner.\n"
     ]
    }
   ],
   "source": [
    "guests = ['guido van rossum', 'jack turner', 'lynn hill']\n",
    "msg = \"please come to dinner\"\n",
    "for i in guests:\n",
    "    print(f\"{i.title()},{msg}.\")\n",
    "print(f\"\\nSorry, {guests[1].title()} can't make it to dinner.\\n\")\n",
    "\n",
    "guests[1] = \"Mary\"\n",
    "for i in guests:\n",
    "    print(f\"{i.title()},{msg}.\")\n",
    "print(f\"\\nSorry, {guests[1].title()} can't make it to dinner.\")"
   ],
   "metadata": {
    "collapsed": false,
    "pycharm": {
     "name": "#%%\n"
    }
   }
  },
  {
   "cell_type": "markdown",
   "source": [
    "练习 3.6 添加嘉宾\n",
    "你刚找到了一张更大的餐桌，可容纳更多的嘉宾就座。请想想你还想邀请哪三位嘉宾。\n",
    "以完成练习3.4或练习3.5时编写的程序为基础，在程序末尾添加函数调用print()，指出\n",
    "你找到了一张更大的餐桌。\n",
    "使用insert()将一位新嘉宾添加到名单开头。\n",
    "使用insert()将另一位新嘉宾添加到名单中间。\n",
    "使用append()将最后一位新嘉宾添加到名单末尾。\n",
    "打印一系列消息，向名单中的每位嘉宾发出邀请。"
   ],
   "metadata": {
    "collapsed": false,
    "pycharm": {
     "name": "#%% md\n"
    }
   }
  },
  {
   "cell_type": "code",
   "execution_count": 24,
   "outputs": [
    {
     "name": "stdout",
     "output_type": "stream",
     "text": [
      "Mary,please come to dinner.\n",
      "Guido Van Rossum,please come to dinner.\n",
      "Amy,please come to dinner.\n",
      "Jack Turner,please come to dinner.\n",
      "Lynn Hill,please come to dinner.\n",
      "Anna,please come to dinner.\n",
      "\n",
      "Sorry, Guido Van Rossum can't make it to dinner.\n",
      "\n"
     ]
    }
   ],
   "source": [
    "guests = ['guido van rossum', 'jack turner', 'lynn hill']\n",
    "msg = \"please come to dinner\"\n",
    "guests.insert(0,\"Mary\")\n",
    "guests.insert(2,\"Amy\")\n",
    "guests.append(\"Anna\")\n",
    "\n",
    "for i in guests:\n",
    "    print(f\"{i.title()},{msg}.\")"
   ],
   "metadata": {
    "collapsed": false,
    "pycharm": {
     "name": "#%%\n"
    }
   }
  },
  {
   "cell_type": "markdown",
   "source": [
    "练习 3.7 缩短名单\n",
    "你刚得知新购买的餐桌无法及时送达，因此只能邀请两位嘉宾。\n",
    "以完成练习3.6时编写的程序为基础，在程序末尾添加一行代码，打印一条你只能邀请两\n",
    "位嘉宾共进晚餐的消息。\n",
    "使用pop()不断地删除名单中的嘉宾，直到只有两位嘉宾为止。每次从名单中弹出一位\n",
    "嘉宾时，都打印一条消息，让该嘉宾知道你很抱歉，无法邀请他来共进晚餐。\n",
    "对于余下两位嘉宾中的每一位，都打印一条消息，指出他依然在受邀之列。\n",
    "使用del将最后两位嘉宾从名单中删除，让名单变成空的。打印该名单，核实名单在程\n",
    "序结束时确实是空的。"
   ],
   "metadata": {
    "collapsed": false,
    "pycharm": {
     "name": "#%% md\n"
    }
   }
  },
  {
   "cell_type": "code",
   "execution_count": 30,
   "outputs": [
    {
     "name": "stdout",
     "output_type": "stream",
     "text": [
      "\n",
      " ['Mary', 'guido van rossum', 'Amy', 'jack turner', 'lynn hill', 'Anna']\n",
      "the new table can not be delivery in time,so only can invite two guest!\n",
      "\n",
      "Sorry, Anna can't make it to dinner.\n",
      "Sorry, lynn hill can't make it to dinner.\n",
      "Sorry, jack turner can't make it to dinner.\n",
      "Sorry, Amy can't make it to dinner.\n",
      "['Mary', 'guido van rossum']\n",
      "Mary,please come to dinner.\n",
      "Guido Van Rossum,please come to dinner.\n",
      "[]\n"
     ]
    }
   ],
   "source": [
    "guests = ['guido van rossum', 'jack turner', 'lynn hill']\n",
    "msg = \"please come to dinner\"\n",
    "guests.insert(0,\"Mary\")\n",
    "guests.insert(2,\"Amy\")\n",
    "guests.append(\"Anna\")\n",
    "\n",
    "print(\"\\n\",guests)\n",
    "print(\"the new table can not be delivery in time,so only can invite two guest!\\n\")\n",
    "\n",
    "name = guests.pop()\n",
    "print(f\"Sorry, {name} can't make it to dinner.\")\n",
    "name = guests.pop()\n",
    "print(f\"Sorry, {name} can't make it to dinner.\")\n",
    "name = guests.pop()\n",
    "print(f\"Sorry, {name} can't make it to dinner.\")\n",
    "name = guests.pop()\n",
    "print(f\"Sorry, {name} can't make it to dinner.\")\n",
    "\n",
    "print(guests)\n",
    "msg = \"please come to dinner\"\n",
    "for i in guests:\n",
    "    print(f\"{i.title()},{msg}.\")\n",
    "\n",
    "del guests[1]\n",
    "del guests[0]\n",
    "print(guests)"
   ],
   "metadata": {
    "collapsed": false,
    "pycharm": {
     "name": "#%%\n"
    }
   }
  },
  {
   "cell_type": "markdown",
   "source": [
    "## 管理列表"
   ],
   "metadata": {
    "collapsed": false,
    "pycharm": {
     "name": "#%% md\n"
    }
   }
  },
  {
   "cell_type": "code",
   "execution_count": 33,
   "outputs": [
    {
     "name": "stdout",
     "output_type": "stream",
     "text": [
      "['apple', 'banana', 'orange', 'pear']\n",
      "['pear', 'orange', 'banana', 'apple']\n",
      "['orange', 'pear', 'banana', 'apple']\n"
     ]
    }
   ],
   "source": [
    "#永久排序sort(),按字母的相反顺序排序：sort(reverse = True)；区分list.reverse,当前排序的逆序（即反向输出），注意：reverse也是永久的\n",
    "\n",
    "#临时排序sorted()\n",
    "#列表长度，len()\n",
    "\n",
    "fruit = ['apple','banana','pear','orange']\n",
    "fruit.sort()\n",
    "print(fruit)\n",
    "\n",
    "fruit = ['apple','banana','pear','orange']\n",
    "fruit.sort(reverse=True)\n",
    "print(fruit)\n",
    "\n",
    "fruit = ['apple','banana','pear','orange']\n",
    "fruit.reverse()\n",
    "print(fruit)"
   ],
   "metadata": {
    "collapsed": false,
    "pycharm": {
     "name": "#%%\n"
    }
   }
  },
  {
   "cell_type": "code",
   "execution_count": 36,
   "outputs": [
    {
     "name": "stdout",
     "output_type": "stream",
     "text": [
      "['apple', 'banana', 'orange', 'pear']\n",
      "['apple', 'banana', 'pear', 'orange']\n"
     ]
    },
    {
     "data": {
      "text/plain": "4"
     },
     "execution_count": 36,
     "metadata": {},
     "output_type": "execute_result"
    }
   ],
   "source": [
    "fruit = ['apple','banana','pear','orange']\n",
    "print(sorted(fruit))\n",
    "print(fruit)\n",
    "len(fruit)"
   ],
   "metadata": {
    "collapsed": false,
    "pycharm": {
     "name": "#%%\n"
    }
   }
  },
  {
   "cell_type": "markdown",
   "source": [
    "想出至少5个你想去旅游的地方。\n",
    "将这些地方存储在一个列表中，并确保其中的元素不是按字母顺序排列的。\n",
    "按原始排列顺序打印该列表。不要考虑输出是否整洁，只管打印原始Python列表就好。\n",
    "使用sorted()按字母顺序打印这个列表，不要修改它。\n",
    "再次打印该列表，核实排列顺序未变。\n",
    "使用sorted()按与字母顺序相反的顺序打印这个列表，不要修改它。\n",
    "再次打印该列表，核实排列顺序未变。\n",
    "使用reverse()修改列表元素的排列顺序。打印该列表，核实排列顺序确实变了。\n",
    "使用reverse()再次修改列表元素的排列顺序。打印该列表，核实已恢复到原来的排列顺序。\n",
    "使用sort()修改该列表，使其元素按字母顺序排列。打印该列表，核实排列顺序确实变了。\n",
    "使用sort()修改该列表，使其元素按与字母顺序相反的顺序排列。打印该列表，核实核实排列顺序确实"
   ],
   "metadata": {
    "collapsed": false,
    "pycharm": {
     "name": "#%% md\n"
    }
   }
  },
  {
   "cell_type": "code",
   "execution_count": 46,
   "outputs": [
    {
     "name": "stdout",
     "output_type": "stream",
     "text": [
      "['Beijing', 'Shanghai', 'Guangxi', 'Xian', 'Changsha']\n",
      "['Beijing', 'Changsha', 'Guangxi', 'Shanghai', 'Xian']\n",
      "['Xian', 'Shanghai', 'Guangxi', 'Changsha', 'Beijing']\n",
      "['Changsha', 'Xian', 'Guangxi', 'Shanghai', 'Beijing']\n",
      "['Beijing', 'Shanghai', 'Guangxi', 'Xian', 'Changsha']\n",
      "['Beijing', 'Changsha', 'Guangxi', 'Shanghai', 'Xian']\n",
      "['Xian', 'Shanghai', 'Guangxi', 'Changsha', 'Beijing']\n"
     ]
    }
   ],
   "source": [
    "city = ['Beijing','Shanghai','Guangxi','Xian','Changsha']\n",
    "print(city)\n",
    "\n",
    "print(sorted(city))\n",
    "\n",
    "print(sorted(city,reverse=True))\n",
    "\n",
    "city.reverse()\n",
    "print(city)\n",
    "\n",
    "city.reverse()\n",
    "print(city)\n",
    "\n",
    "city.sort()\n",
    "print(city)\n",
    "\n",
    "city.sort(reverse=True)\n",
    "print(city)"
   ],
   "metadata": {
    "collapsed": false,
    "pycharm": {
     "name": "#%%\n"
    }
   }
  },
  {
   "cell_type": "code",
   "execution_count": null,
   "outputs": [],
   "source": [],
   "metadata": {
    "collapsed": false,
    "pycharm": {
     "name": "#%%\n"
    }
   }
  }
 ],
 "metadata": {
  "kernelspec": {
   "display_name": "Python 3",
   "language": "python",
   "name": "python3"
  },
  "language_info": {
   "codemirror_mode": {
    "name": "ipython",
    "version": 2
   },
   "file_extension": ".py",
   "mimetype": "text/x-python",
   "name": "python",
   "nbconvert_exporter": "python",
   "pygments_lexer": "ipython2",
   "version": "2.7.6"
  }
 },
 "nbformat": 4,
 "nbformat_minor": 0
}