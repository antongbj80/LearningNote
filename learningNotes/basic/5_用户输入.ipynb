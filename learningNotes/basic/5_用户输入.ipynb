{
 "cells": [
  {
   "cell_type": "markdown",
   "metadata": {},
   "source": [
    "练习 7.1 汽车租赁  \n",
    "编写一个程序，询问用户要租什么样的汽车，并打印一条消息，如下所示。  \n",
    "Let me see if I can find you a Subaru."
   ]
  },
  {
   "cell_type": "code",
   "execution_count": 5,
   "metadata": {},
   "outputs": [
    {
     "name": "stdout",
     "output_type": "stream",
     "text": [
      "Let me see if I can find you a Toto.\n"
     ]
    }
   ],
   "source": [
    "car = input(\"What kind of car would you like? \")\n",
    "print(f\"Let me see if I can find you a {car.title()}.\")"
   ]
  },
  {
   "cell_type": "markdown",
   "metadata": {},
   "source": [
    "练习 7.2 餐馆订位  \n",
    "编写一个程序，询问用户有多少人用餐。如果超过8个人，就打印一条消息，指出没有空桌；否则指出有空桌。"
   ]
  },
  {
   "cell_type": "code",
   "execution_count": 4,
   "metadata": {},
   "outputs": [
    {
     "name": "stdout",
     "output_type": "stream",
     "text": [
      "I'm sorry, you'll have to wait for a table.\n"
     ]
    }
   ],
   "source": [
    "number = int(input(\"How many people are in your dinner party tonight?\"))\n",
    "# number = int(number)\n",
    "if number > 8:\n",
    "    print(\"I'm sorry, you'll have to wait for a table.\")\n",
    "else:\n",
    "    print(\"Your table is ready.\")"
   ]
  }
 ],
 "metadata": {
  "kernelspec": {
   "display_name": "Python 3",
   "language": "python",
   "name": "python3"
  },
  "language_info": {
   "codemirror_mode": {
    "name": "ipython",
    "version": 3
   },
   "file_extension": ".py",
   "mimetype": "text/x-python",
   "name": "python",
   "nbconvert_exporter": "python",
   "pygments_lexer": "ipython3",
   "version": "3.8.6"
  }
 },
 "nbformat": 4,
 "nbformat_minor": 2
}
