{
 "cells": [
  {
   "cell_type": "markdown",
   "metadata": {},
   "source": [
    "练习 7.4 比萨配料  \n",
    "编写一个循环，提示用户输入一系列比萨配料，并在用户输入'quit'时结束循环。每当用户输入一种配料后，都打印一条消息，指出要在比萨中添加这种配料。"
   ]
  },
  {
   "cell_type": "code",
   "execution_count": 3,
   "metadata": {},
   "outputs": [
    {
     "name": "stdout",
     "output_type": "stream",
     "text": [
      " I'll add apple to your pizza.\n",
      " I'll add cheese to your pizza.\n",
      " I'll add apple to your pizza.\n",
      " I'll add cheese to your pizza.\n",
      " I'll add choloclate to your pizza.\n",
      " I'll add pizze to your pizza.\n",
      " I'll add pizza to your pizza.\n"
     ]
    }
   ],
   "source": [
    "prompt = \"\\nWhat topping would you like on your pizza?\"\n",
    "prompt += \"\\nEnter 'quit' when you are finished: \"\n",
    "\n",
    "while True:\n",
    "    topping = input(prompt)\n",
    "    if topping != 'quit':\n",
    "        print(f\" I'll add {topping} to your pizza.\")\n",
    "    else:\n",
    "        break"
   ]
  },
  {
   "cell_type": "markdown",
   "metadata": {},
   "source": [
    "练习 7.5 电影票  \n",
    "有家电影院根据观众的年龄收取不同的票价：不到3岁的观众免费；3（含）～12岁的观众收费10美元；年满12岁的观众收费15美元。请编写一个循环，在其中询问用户的年龄，并指出其票价。"
   ]
  },
  {
   "cell_type": "code",
   "execution_count": 4,
   "metadata": {},
   "outputs": [
    {
     "name": "stdout",
     "output_type": "stream",
     "text": [
      " Your ticket is $10.\n",
      " Your ticket is $10.\n",
      " You get in free!\n",
      " Your ticket is $15.\n"
     ]
    }
   ],
   "source": [
    "prompt = \"\\nHow old are you?\"\n",
    "prompt += \"\\nEnter 'quit' when you are finished. \"\n",
    "\n",
    "while True:\n",
    "    age = input(prompt)\n",
    "    if age != 'quit':\n",
    "        age = int(age)\n",
    "        if age < 3:\n",
    "            print(\" You get in free!\")\n",
    "        elif age < 12:\n",
    "            print(\" Your ticket is $10.\")\n",
    "        else:\n",
    "            print(\" Your ticket is $15.\")\n",
    "    else:\n",
    "        break"
   ]
  },
  {
   "cell_type": "code",
   "execution_count": 12,
   "metadata": {},
   "outputs": [
    {
     "name": "stdout",
     "output_type": "stream",
     "text": [
      " Your ticket is $15.\n",
      " You get in free!\n",
      " Your ticket is $10.\n",
      " Your ticket is $15.\n",
      " Your ticket is $15.\n",
      " Your ticket is $15.\n",
      " Your ticket is $15.\n",
      " Your ticket is $15.\n",
      " Your ticket is $10.\n",
      " You get in free!\n",
      " Your ticket is $10.\n"
     ]
    }
   ],
   "source": [
    "prompt = \"\\nHow old are you?\"\n",
    "prompt += \"\\nEnter 'quit' when you are finished. \"\n",
    "\n",
    "flag = True\n",
    "while flag:\n",
    "    age = input(prompt)\n",
    "\n",
    "    if age == 'quit':\n",
    "        flag = False\n",
    "    else:\n",
    "        age = int(age)\n",
    "        if age < 3:\n",
    "            print(\" You get in free!\")\n",
    "        elif age < 12:\n",
    "            print(\" Your ticket is $10.\")\n",
    "        else:\n",
    "            print(\" Your ticket is $15.\")"
   ]
  },
  {
   "cell_type": "markdown",
   "metadata": {},
   "source": [
    "从1-10只输出奇数的循环"
   ]
  },
  {
   "cell_type": "code",
   "execution_count": 14,
   "metadata": {},
   "outputs": [
    {
     "name": "stdout",
     "output_type": "stream",
     "text": [
      "1\n",
      "3\n",
      "5\n",
      "7\n",
      "9\n"
     ]
    }
   ],
   "source": [
    "number = 0\n",
    "\n",
    "while number < 10:\n",
    "    number += 1\n",
    "    if number % 2 == 0:\n",
    "        continue\n",
    "    else:\n",
    "        print(number)\n",
    "    "
   ]
  },
  {
   "cell_type": "markdown",
   "metadata": {},
   "source": [
    "练习 7.8 熟食店  **在列表之间移动元素**  \n",
    "创建一个名为sandwich_orders的列表，其中包含各种三明治的名字，再创建一个名为finished_sandwiches的空列表。遍历列表sandwich_orders，对于其中的每种三明治，都打印一条消息，如“I made your tuna sandwich.”，并将其移到列表finished_sandwiches中。\n",
    "当所有三明治都制作好后，打印一条消息，将这些三明治列出来"
   ]
  },
  {
   "cell_type": "code",
   "execution_count": 19,
   "metadata": {},
   "outputs": [
    {
     "name": "stdout",
     "output_type": "stream",
     "text": [
      "I made your veggie sandwich.\n",
      "I made your turkey sandwich.\n",
      "I made your grilled cheese sandwich.\n",
      "I made your roast beef sandwich.\n",
      "\n",
      "All sandwicht are finished\n",
      "I made a veggie sandwich.\n",
      "I made a turkey sandwich.\n",
      "I made a grilled cheese sandwich.\n",
      "I made a roast beef sandwich.\n"
     ]
    }
   ],
   "source": [
    "sandwich_orders = ['veggie', 'grilled cheese', 'turkey', 'roast beef']\n",
    "finished_sandwiches = []\n",
    "\n",
    "#当sandwich_orders不为空时\n",
    "while sandwich_orders:\n",
    "    for sandwich_order in sandwich_orders:\n",
    "        print(f\"I made your {sandwich_order} sandwich.\")\n",
    "        finished_sandwiches.append(sandwich_order)\n",
    "        sandwich_orders.remove(sandwich_order)\n",
    "#如果使用current_sandwich = sandwich_orders.pop()的话，输出则是负向\n",
    "\n",
    "print(\"\\nAll sandwicht are finished\")\n",
    "for sandwich in finished_sandwiches:\n",
    "    print(f\"I made a {sandwich} sandwich.\")"
   ]
  },
  {
   "cell_type": "markdown",
   "metadata": {},
   "source": [
    "练习 7.9 五香烟熏牛肉卖完了  **删除为特定值的所有列表元素**  \n",
    "使用为练习7.8创建的列表sandwich_orders，并确保'pastrami'在其中至少出现了三次。在程序开头附近添加这样的代码：先打印一条消息，指出熟食店的五香烟熏牛肉（pastrami）卖完了；再使用一个while循环将列表sandwich_orders 中的'pastrami'都删除。确认最终的列表finished_sandwiches中未包含'pastrami'。"
   ]
  },
  {
   "cell_type": "code",
   "execution_count": 24,
   "metadata": {},
   "outputs": [
    {
     "name": "stdout",
     "output_type": "stream",
     "text": [
      "['pastrami', 'veggie', 'grilled cheese', 'pastrami', 'turkey', 'roast beef', 'pastrami']\n",
      "\n",
      "I'm sorry, we're all out of pastrami today.\n",
      "['veggie', 'grilled cheese', 'turkey', 'roast beef']\n",
      "I made your veggie sandwich.\n",
      "I made your turkey sandwich.\n",
      "I made your grilled cheese sandwich.\n",
      "I made your roast beef sandwich.\n",
      "\n",
      "All sandwicht are finished\n",
      "I made a veggie sandwich.\n",
      "I made a turkey sandwich.\n",
      "I made a grilled cheese sandwich.\n",
      "I made a roast beef sandwich.\n"
     ]
    }
   ],
   "source": [
    "sandwich_orders = ['pastrami', 'veggie', 'grilled cheese', \n",
    "                   'pastrami','turkey', 'roast beef', 'pastrami']\n",
    "finished_sandwiches = []\n",
    "print(sandwich_orders)\n",
    "\n",
    "print(\"\\nI'm sorry, we're all out of pastrami today.\")\n",
    "while 'pastrami' in sandwich_orders:\n",
    "    sandwich_orders.remove('pastrami')\n",
    "print(sandwich_orders)\n",
    "\n",
    "#当sandwich_orders不为空时\n",
    "while sandwich_orders:\n",
    "    for sandwich_order in sandwich_orders:\n",
    "        print(f\"I made your {sandwich_order} sandwich.\")\n",
    "        finished_sandwiches.append(sandwich_order)\n",
    "        sandwich_orders.remove(sandwich_order)\n",
    "#如果使用current_sandwich = sandwich_orders.pop()的话，输出则是负向\n",
    "\n",
    "print(\"\\nAll sandwicht are finished\")\n",
    "for sandwich in finished_sandwiches:\n",
    "    print(f\"I made a {sandwich} sandwich.\")"
   ]
  },
  {
   "cell_type": "markdown",
   "metadata": {},
   "source": [
    "练习 7.10 梦想中的度假胜地  \n",
    "编写一个程序，调查用户梦想中的度假胜地。使用类似于“If you could visit one place in the world, where would you go?”的提示，并编写一个打印调查结果的代码块。"
   ]
  },
  {
   "cell_type": "code",
   "execution_count": 27,
   "metadata": {},
   "outputs": [
    {
     "name": "stdout",
     "output_type": "stream",
     "text": [
      "\n",
      " -----show the response----\n",
      "Mary would like to visit Beijing\n"
     ]
    }
   ],
   "source": [
    "reponses = {}  #name:location\n",
    "flag = True  #标志\n",
    "\n",
    "while flag:\n",
    "    #提示输入名字和地点\n",
    "    name = input(\"\\nWhat's your name?\")\n",
    "    location = input(\"If you could visit one place in the world, where would it be?\")\n",
    "\n",
    "    #存储到字典里\n",
    "    reponses[name] = location\n",
    "\n",
    "    #判断是否还有参加调查\n",
    "    repeat = input(\"\\n Would you like to let someone else respond? (yes/no)\")\n",
    "    if repeat == 'no':\n",
    "        flag = False\n",
    "\n",
    "#显示结果\n",
    "print(\"\\n -----show the response----\")\n",
    "for name,location in reponses.items():\n",
    "    print(f\"{name.title()} would like to visit {location.title()}\")"
   ]
  }
 ],
 "metadata": {
  "kernelspec": {
   "display_name": "Python 3",
   "language": "python",
   "name": "python3"
  },
  "language_info": {
   "codemirror_mode": {
    "name": "ipython",
    "version": 3
   },
   "file_extension": ".py",
   "mimetype": "text/x-python",
   "name": "python",
   "nbconvert_exporter": "python",
   "pygments_lexer": "ipython3",
   "version": "3.8.6"
  }
 },
 "nbformat": 4,
 "nbformat_minor": 2
}
