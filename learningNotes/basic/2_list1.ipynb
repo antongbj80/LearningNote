{
 "cells": [
  {
   "cell_type": "markdown",
   "source": [
    "练习 4.1 比萨\n",
    "想出至少三种你喜欢的比萨，将其名称存储在一个列表中，再使用for循环将每种比萨的名称打印出来。\n",
    "修改这个for循环，使其打印包含比萨名称的句子，而不仅仅是比萨的名称。对于每种比萨都显示一行输出，如下所示。\n",
    "I like pepperoni pizza.\n",
    "在程序末尾添加一行代码（不包含在for循环中），指出你有多喜欢比萨。输出应包含针对每种比萨的消息，还有一个总结性的句子，如下所示。\n",
    "I really love pizza!"
   ],
   "metadata": {
    "collapsed": false,
    "pycharm": {
     "name": "#%% md\n"
    }
   }
  },
  {
   "cell_type": "code",
   "execution_count": 3,
   "outputs": [
    {
     "name": "stdout",
     "output_type": "stream",
     "text": [
      "pepperoni\n",
      "hawaiian\n",
      "veggie\n",
      "I like pepperoni pizza.\n",
      "I like hawaiian pizza.\n",
      "I like veggie pizza.\n",
      "I really love pizza!\n"
     ]
    }
   ],
   "source": [
    "favorite_pizzas = ['pepperoni', 'hawaiian', 'veggie']\n",
    "for i in  favorite_pizzas:\n",
    "    print(i)\n",
    "for i in favorite_pizzas:\n",
    "    print(f\"I like {i} pizza.\")\n",
    "print(\"I really love pizza!\")"
   ],
   "metadata": {
    "collapsed": false,
    "pycharm": {
     "name": "#%%\n"
    }
   }
  },
  {
   "cell_type": "markdown",
   "source": [
    "练习 4.2 动物\n",
    "想出至少三种有共同特征的动物，将其名称存储在一个列表中，再使用for循环将每种动物的名称打印出来。\n",
    "修改这个程序，使其针对每种动物都打印一个句子，如下所示。\n",
    "A dog would make a great pet.\n",
    "在程序末尾添加一行代码，指出这些动物的共同之处，如打印下面这样的句子。\n",
    "Any of these animals would make a great pet!"
   ],
   "metadata": {
    "collapsed": false,
    "pycharm": {
     "name": "#%% md\n"
    }
   }
  },
  {
   "cell_type": "code",
   "execution_count": 4,
   "outputs": [
    {
     "name": "stdout",
     "output_type": "stream",
     "text": [
      "spider monkey\n",
      "lemur\n",
      "giraffe\n",
      "A spider monkey A dog would make a great pet.\n",
      "A lemur A dog would make a great pet.\n",
      "A giraffe A dog would make a great pet.\n",
      "Any of these animals would make a great pet!\n"
     ]
    }
   ],
   "source": [
    "animals = [\"spider monkey\", \"lemur\", \"giraffe\"]\n",
    "for i in animals:\n",
    "    print(i)\n",
    "for i in animals:\n",
    "    print(f\"A {i} A dog would make a great pet.\")\n",
    "print(\"Any of these animals would make a great pet!\")"
   ],
   "metadata": {
    "collapsed": false,
    "pycharm": {
     "name": "#%%\n"
    }
   }
  },
  {
   "cell_type": "markdown",
   "source": [
    "### range和数值列表"
   ],
   "metadata": {
    "collapsed": false,
    "pycharm": {
     "name": "#%% md\n"
    }
   }
  },
  {
   "cell_type": "code",
   "execution_count": 7,
   "outputs": [
    {
     "name": "stdout",
     "output_type": "stream",
     "text": [
      "[1, 4, 9, 16, 25, 36, 49, 64, 81, 100]\n",
      "1\n",
      "100\n",
      "385\n",
      "[1, 4, 9, 16, 25, 36, 49, 64, 81, 100]\n"
     ]
    }
   ],
   "source": [
    "#创建数值列表\n",
    "squares =[]\n",
    "for i in range(1,11):\n",
    "    squares.append(i**2)\n",
    "print(squares)\n",
    "print(min(squares))\n",
    "print(max(squares))\n",
    "print(sum(squares))\n",
    "\n",
    "#列表推导式\n",
    "square = [value**2 for value in range(1,11)]\n",
    "print(square)"
   ],
   "metadata": {
    "collapsed": false,
    "pycharm": {
     "name": "#%%\n"
    }
   }
  },
  {
   "cell_type": "code",
   "execution_count": 8,
   "outputs": [
    {
     "name": "stdout",
     "output_type": "stream",
     "text": [
      "1\n",
      "2\n",
      "3\n",
      "4\n",
      "5\n",
      "6\n",
      "7\n",
      "8\n",
      "9\n",
      "10\n",
      "11\n",
      "12\n",
      "13\n",
      "14\n",
      "15\n",
      "16\n",
      "17\n",
      "18\n",
      "19\n",
      "20\n"
     ]
    }
   ],
   "source": [
    "#练习 4.3 数到 20,使用一个 for 循环打印数 1～20（含）。\n",
    "for i in range (1,21):\n",
    "    print(i)"
   ],
   "metadata": {
    "collapsed": false,
    "pycharm": {
     "name": "#%%\n"
    }
   }
  },
  {
   "cell_type": "markdown",
   "source": [],
   "metadata": {
    "collapsed": false,
    "pycharm": {
     "name": "#%% md\n"
    }
   }
  },
  {
   "cell_type": "code",
   "execution_count": 13,
   "outputs": [
    {
     "name": "stdout",
     "output_type": "stream",
     "text": [
      "1\n",
      "1000000\n",
      "sum = 500000500000,\n",
      "time =0.020043611526489258\n"
     ]
    }
   ],
   "source": [
    "#练习 4.5 100 万求和\n",
    "import time\n",
    "list = [i for i in range(1,1000001)]\n",
    "print(min(list))\n",
    "print(max(list))\n",
    "start = time.time()\n",
    "sum_ = sum(list)\n",
    "end = time.time()\n",
    "print(\"sum = {}\\ntime ={}\".format(sum_,end-start))"
   ],
   "metadata": {
    "collapsed": false,
    "pycharm": {
     "name": "#%%\n"
    }
   }
  },
  {
   "cell_type": "code",
   "execution_count": 14,
   "outputs": [
    {
     "name": "stdout",
     "output_type": "stream",
     "text": [
      "1\n",
      "3\n",
      "5\n",
      "7\n",
      "9\n",
      "11\n",
      "13\n",
      "15\n",
      "17\n",
      "19\n"
     ]
    }
   ],
   "source": [
    "#练习 4.6 奇数\n",
    "# 通过给range()函数指定第三个参数来创建一个列表，其中包含1～20的奇数；再使用一个for循环将这些数打印出来。\n",
    "for i in range (1,21,2):\n",
    "    print(i)"
   ],
   "metadata": {
    "collapsed": false,
    "pycharm": {
     "name": "#%%\n"
    }
   }
  },
  {
   "cell_type": "code",
   "execution_count": 16,
   "outputs": [
    {
     "name": "stdout",
     "output_type": "stream",
     "text": [
      "3\n",
      "6\n",
      "9\n",
      "12\n",
      "15\n",
      "18\n",
      "21\n",
      "24\n",
      "27\n",
      "30\n"
     ]
    }
   ],
   "source": [
    "#练习 4.7  3的倍数\n",
    "# 创建一个列表，其中包含3～30内能被3整除的数，再使用一个for循环将这个列表中的数打印出来。\n",
    "for i in range(3,31,3):\n",
    "    print(i)"
   ],
   "metadata": {
    "collapsed": false,
    "pycharm": {
     "name": "#%%\n"
    }
   }
  },
  {
   "cell_type": "code",
   "execution_count": null,
   "outputs": [],
   "source": [
    "#练习 4.8 立方\n",
    "#将同一个数乘三次称为立方。例如，在Python中，2的立方用2**3表示。创建一个列表，其中包含前10个整数（1～10）的立方，再使用一个for循环将这些立方数打印出来。"
   ],
   "metadata": {
    "collapsed": false,
    "pycharm": {
     "name": "#%%\n"
    }
   }
  },
  {
   "cell_type": "code",
   "execution_count": 19,
   "outputs": [
    {
     "name": "stdout",
     "output_type": "stream",
     "text": [
      "1\n",
      "8\n",
      "27\n",
      "64\n",
      "125\n",
      "216\n",
      "343\n",
      "512\n",
      "729\n",
      "1000\n",
      "1\n",
      "8\n",
      "27\n",
      "64\n",
      "125\n",
      "216\n",
      "343\n",
      "512\n",
      "729\n",
      "1000\n"
     ]
    }
   ],
   "source": [
    "#常见方法\n",
    "cube_1 = []\n",
    "for i in range(1,11):\n",
    "    num = i**3\n",
    "    cube_1.append(num)\n",
    "for i in cube_1:\n",
    "    print(i)\n",
    "\n",
    "#立方推导式\n",
    "cube_2 = [value**3 for value in range(1,11)]\n",
    "for i in cube_2:\n",
    "    print(i)"
   ],
   "metadata": {
    "collapsed": false,
    "pycharm": {
     "name": "#%%\n"
    }
   }
  },
  {
   "cell_type": "markdown",
   "source": [
    "## 使用列表部分数据"
   ],
   "metadata": {
    "collapsed": false,
    "pycharm": {
     "name": "#%% md\n"
    }
   }
  },
  {
   "cell_type": "code",
   "execution_count": null,
   "outputs": [],
   "source": [],
   "metadata": {
    "collapsed": false,
    "pycharm": {
     "name": "#%%\n"
    }
   }
  }
 ],
 "metadata": {
  "kernelspec": {
   "display_name": "Python 3",
   "language": "python",
   "name": "python3"
  },
  "language_info": {
   "codemirror_mode": {
    "name": "ipython",
    "version": 2
   },
   "file_extension": ".py",
   "mimetype": "text/x-python",
   "name": "python",
   "nbconvert_exporter": "python",
   "pygments_lexer": "ipython2",
   "version": "2.7.6"
  }
 },
 "nbformat": 4,
 "nbformat_minor": 0
}