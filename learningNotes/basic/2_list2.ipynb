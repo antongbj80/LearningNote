{
 "cells": [
  {
   "cell_type": "markdown",
   "metadata": {},
   "source": [
    "# **列表**"
   ]
  },
  {
   "cell_type": "markdown",
   "metadata": {
    "pycharm": {
     "name": "#%% md\n"
    }
   },
   "source": [
    "列表的访问和使用"
   ]
  },
  {
   "cell_type": "code",
   "execution_count": 1,
   "metadata": {
    "pycharm": {
     "name": "#%%\n"
    }
   },
   "outputs": [
    {
     "name": "stdout",
     "output_type": "stream",
     "text": [
      "['apple', 'banana', 'orange', 'pear', 'peach']\n"
     ]
    }
   ],
   "source": [
    "fruit = ['apple','banana','orange','pear','peach']\n",
    "print(fruit)"
   ]
  },
  {
   "cell_type": "code",
   "execution_count": 2,
   "metadata": {
    "pycharm": {
     "name": "#%%\n"
    }
   },
   "outputs": [
    {
     "name": "stdout",
     "output_type": "stream",
     "text": [
      "apple\n",
      "peach\n"
     ]
    }
   ],
   "source": [
    "#列表索引从0开始，从后往前前面加一个负号即可，-1表示最后一个\n",
    "fruit = ['apple','banana','orange','pear','peach']\n",
    "print(fruit[0])\n",
    "print(fruit[-1])"
   ]
  },
  {
   "cell_type": "code",
   "execution_count": 4,
   "metadata": {
    "pycharm": {
     "name": "#%%\n"
    }
   },
   "outputs": [
    {
     "name": "stdout",
     "output_type": "stream",
     "text": [
      "My favorite fruit is orange.\n"
     ]
    }
   ],
   "source": [
    "#使用列表中的每个值\n",
    "fruit = ['apple','banana','orange','pear','peach']\n",
    "msg = f\"My favorite fruit is {fruit[2]}.\"\n",
    "print(msg)"
   ]
  },
  {
   "cell_type": "markdown",
   "metadata": {
    "pycharm": {
     "name": "#%% md\n"
    }
   },
   "source": [
    "列表的修改、添加、删除"
   ]
  },
  {
   "cell_type": "code",
   "execution_count": 6,
   "metadata": {
    "pycharm": {
     "name": "#%%\n"
    }
   },
   "outputs": [
    {
     "name": "stdout",
     "output_type": "stream",
     "text": [
      "['apple', 'banana', 'orange', 'pear', 'peach']\n",
      "['apple', 'grape', 'orange', 'pear', 'peach']\n"
     ]
    }
   ],
   "source": [
    "#列表修改\n",
    "fruit = ['apple','banana','orange','pear','peach']\n",
    "print(fruit)\n",
    "\n",
    "fruit[1] = 'grape'\n",
    "print(fruit)"
   ]
  },
  {
   "cell_type": "code",
   "execution_count": 7,
   "metadata": {
    "pycharm": {
     "name": "#%%\n"
    }
   },
   "outputs": [
    {
     "name": "stdout",
     "output_type": "stream",
     "text": [
      "['apple', 'banana', 'orange', 'pear', 'peach', 'grape']\n"
     ]
    }
   ],
   "source": [
    "#添加元素\n",
    "#在末尾添加——追加\n",
    "fruit = ['apple','banana','orange','pear','peach']\n",
    "fruit.append('grape')\n",
    "print(fruit)"
   ]
  },
  {
   "cell_type": "code",
   "execution_count": 8,
   "metadata": {
    "pycharm": {
     "name": "#%%\n"
    }
   },
   "outputs": [
    {
     "data": {
      "text/plain": [
       "['apple', 'grape', 'orange']"
      ]
     },
     "execution_count": 8,
     "metadata": {},
     "output_type": "execute_result"
    }
   ],
   "source": [
    "#空列表一个一个往里添加\n",
    "fruit = []\n",
    "fruit.append('apple')\n",
    "fruit.append('grape')\n",
    "fruit.append('orange')\n",
    "fruit"
   ]
  },
  {
   "cell_type": "code",
   "execution_count": 9,
   "metadata": {
    "pycharm": {
     "name": "#%%\n"
    }
   },
   "outputs": [
    {
     "data": {
      "text/plain": [
       "['apple', 'grape', 'banana', 'orange', 'pear', 'peach']"
      ]
     },
     "execution_count": 9,
     "metadata": {},
     "output_type": "execute_result"
    }
   ],
   "source": [
    "#在列表中插入元素,insert(索引，元素)\n",
    "fruit = ['apple','banana','orange','pear','peach']\n",
    "fruit.insert(1,'grape')\n",
    "fruit"
   ]
  },
  {
   "cell_type": "code",
   "execution_count": 10,
   "metadata": {
    "pycharm": {
     "name": "#%%\n"
    }
   },
   "outputs": [
    {
     "data": {
      "text/plain": [
       "['apple', 'banana', 'pear', 'peach']"
      ]
     },
     "execution_count": 10,
     "metadata": {},
     "output_type": "execute_result"
    }
   ],
   "source": [
    "#删除元素\n",
    "#使用del 进行删除，已知元素在列表中的位置\n",
    "fruit = ['apple','banana','orange','pear','peach']\n",
    "del fruit[2]\n",
    "fruit"
   ]
  },
  {
   "cell_type": "code",
   "execution_count": 12,
   "metadata": {
    "pycharm": {
     "name": "#%%\n"
    }
   },
   "outputs": [
    {
     "name": "stdout",
     "output_type": "stream",
     "text": [
      "['apple', 'banana', 'orange', 'pear']\n"
     ]
    },
    {
     "data": {
      "text/plain": [
       "'peach'"
      ]
     },
     "execution_count": 12,
     "metadata": {},
     "output_type": "execute_result"
    }
   ],
   "source": [
    "#使用pop()进行删除，pop()方法可以删除列表末尾的元素，并接着使用它的值。\n",
    "fruit = ['apple','banana','orange','pear','peach']\n",
    "poped_fruit = fruit.pop()\n",
    "print(fruit)\n",
    "poped_fruit"
   ]
  },
  {
   "cell_type": "code",
   "execution_count": 13,
   "metadata": {
    "pycharm": {
     "name": "#%%\n"
    }
   },
   "outputs": [
    {
     "name": "stdout",
     "output_type": "stream",
     "text": [
      "['apple', 'orange', 'pear', 'peach']\n"
     ]
    },
    {
     "data": {
      "text/plain": [
       "'banana'"
      ]
     },
     "execution_count": 13,
     "metadata": {},
     "output_type": "execute_result"
    }
   ],
   "source": [
    "#使用pop()删除任意位置的严肃，即在空号中添加索引即可\n",
    "fruit = ['apple','banana','orange','pear','peach']\n",
    "poped_fruit = fruit.pop(1)\n",
    "print(fruit)\n",
    "poped_fruit"
   ]
  },
  {
   "cell_type": "markdown",
   "metadata": {
    "pycharm": {
     "name": "#%% md\n"
    }
   },
   "source": [
    "总结：当需要记录当前被删除的元素时使用pop(),不需要记录可以直接使用del"
   ]
  },
  {
   "cell_type": "code",
   "execution_count": 15,
   "metadata": {
    "pycharm": {
     "name": "#%%\n"
    }
   },
   "outputs": [
    {
     "name": "stdout",
     "output_type": "stream",
     "text": [
      "['apple', 'banana', 'orange', 'pear', 'peach']\n"
     ]
    },
    {
     "data": {
      "text/plain": [
       "['apple', 'orange', 'pear', 'peach']"
      ]
     },
     "execution_count": 15,
     "metadata": {},
     "output_type": "execute_result"
    }
   ],
   "source": [
    "#根据值删除元素，使用remove()方法\n",
    "#需要注意，remove()只删除第一个指定的值，若需删除多个，则需要使用循环进行删除\n",
    "fruit = ['apple','banana','orange','pear','peach']\n",
    "print(fruit)\n",
    "fruit.remove('banana')\n",
    "fruit"
   ]
  },
  {
   "cell_type": "markdown",
   "metadata": {
    "pycharm": {
     "name": "#%% md\n"
    }
   },
   "source": [
    "练习 3.1 姓名\n",
    "将一些朋友的姓名存储在一个列表中，并将其命名为names。依次访问该列表的每个元素，从而将每个朋友的姓名都打印出来。"
   ]
  },
  {
   "cell_type": "code",
   "execution_count": null,
   "metadata": {
    "pycharm": {
     "name": "#%%\n"
    }
   },
   "outputs": [],
   "source": []
  }
 ],
 "metadata": {
  "kernelspec": {
   "display_name": "Python 3 (ipykernel)",
   "language": "python",
   "name": "python3"
  },
  "language_info": {
   "codemirror_mode": {
    "name": "ipython",
    "version": 3
   },
   "file_extension": ".py",
   "mimetype": "text/x-python",
   "name": "python",
   "nbconvert_exporter": "python",
   "pygments_lexer": "ipython3",
   "version": "3.8.6"
  }
 },
 "nbformat": 4,
 "nbformat_minor": 1
}
