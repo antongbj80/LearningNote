{
 "cells": [
  {
   "cell_type": "markdown",
   "metadata": {},
   "source": [
    "练习 6.4 词汇表 2  \n",
    "现在你知道了如何遍历字典，请整理你为练习6.3编写的代码，将其中的一系列函数调用print()替换为一个遍历字典中键和值的循环。确保该循环正确无误后，再在词汇表中添加5个Python术语。当你再次运行这个程序时，这些新术语及其含义将自动包含在输出中。"
   ]
  },
  {
   "cell_type": "code",
   "execution_count": 2,
   "metadata": {},
   "outputs": [
    {
     "name": "stdout",
     "output_type": "stream",
     "text": [
      "string:A series of characters.\n",
      "comment:A note in a program that the Python interpreter ignores.\n",
      "list:A collection of items in a particular order.\n",
      "loop:Work through a collection of items, one at a time.\n",
      "dictionary:A collection of key-value pairs.\n",
      "key:The first item in a key-value pair in a dictionary.\n",
      "value:An item associated with a key in a dictionary.\n",
      "conditional test:A comparison between two values.\n",
      "float:A numerical value with a decimal component.\n",
      "boolean expression:An expression that evaluates to True or False.\n"
     ]
    }
   ],
   "source": [
    "glossary = {\n",
    "    'string': 'A series of characters.',\n",
    "    'comment': 'A note in a program that the Python interpreter ignores.',\n",
    "    'list': 'A collection of items in a particular order.',\n",
    "    'loop': 'Work through a collection of items, one at a time.',\n",
    "    'dictionary': \"A collection of key-value pairs.\",\n",
    "    'key': 'The first item in a key-value pair in a dictionary.',\n",
    "    'value': 'An item associated with a key in a dictionary.',\n",
    "    'conditional test': 'A comparison between two values.',\n",
    "    'float': 'A numerical value with a decimal component.',\n",
    "    'boolean expression': 'An expression that evaluates to True or False.',\n",
    "    }\n",
    "for word,definition in glossary.items():\n",
    "    print(f\"{word}:{definition}\")"
   ]
  },
  {
   "cell_type": "markdown",
   "metadata": {},
   "source": [
    "练习 6.5 河流 \n",
    "创建一个字典，在其中存储三条河流及其流经的国家。例如，一个键值对可能是'nile':'egypt'。\n",
    "- 使用循环为每条河流打印一条消息，如下所示。\n",
    "The Nile runs through Egypt.\n",
    "- 使用循环将该字典中每条河流的名字打印出来。\n",
    "- 使用循环将该字典包含的每个国家的名字打印出来。"
   ]
  },
  {
   "cell_type": "code",
   "execution_count": 3,
   "metadata": {},
   "outputs": [
    {
     "name": "stdout",
     "output_type": "stream",
     "text": [
      "The nile runs through Egypt\n",
      "The mississippi runs through United States\n",
      "The fraser runs through Canada\n",
      "The yangtze runs through China\n",
      "\n",
      "The following rivers are included in this data set:\n",
      "Nile\n",
      "Mississippi\n",
      "Fraser\n",
      "Yangtze\n",
      "\n",
      "The following countries are included in this data set:\n",
      "Nile\n",
      "Mississippi\n",
      "Fraser\n",
      "Yangtze\n"
     ]
    }
   ],
   "source": [
    "rivers = {\n",
    "    'nile': 'egypt',\n",
    "    'mississippi': 'united states',\n",
    "    'fraser': 'canada',\n",
    "    'yangtze': 'china',\n",
    "    }\n",
    "\n",
    "#使用循环为每条河流打印一条消息\n",
    "for river,country in rivers.items():\n",
    "    print(f\"The {river} runs through {country.title()}\")\n",
    "\n",
    "#使用循环将该字典中每条河流的名字打印出来。\n",
    "print(\"\\nThe following rivers are included in this data set:\")\n",
    "for river in rivers.keys():\n",
    "    print(f\"{river.title()}\")\n",
    "\n",
    "#使用循环将该字典包含的每个国家的名字打印出来\n",
    "print(\"\\nThe following countries are included in this data set:\")\n",
    "for country in rivers.keys():\n",
    "    print(f\"{country.title()}\")"
   ]
  },
  {
   "cell_type": "markdown",
   "metadata": {},
   "source": [
    "练习 6.6 调查  \n",
    "在6.3.1节编写的程序favorite_languages.py中执行以下操作。\n",
    "- 创建一个应该会接受调查的人的名单，其中有些人已在字典中，而其他人不在字典中。\n",
    "- 遍历这个名单。对于已参与调查的人，打印一条消息表示感谢；对于还未参与调查的人，\n",
    "打印一条邀请参加调查的消息。"
   ]
  },
  {
   "cell_type": "code",
   "execution_count": 4,
   "metadata": {},
   "outputs": [
    {
     "name": "stdout",
     "output_type": "stream",
     "text": [
      "Thank you for taking the poll, Phil!\n",
      "Josh, what's your favorite programming language?\n",
      "David, what's your favorite programming language?\n",
      "Becca, what's your favorite programming language?\n",
      "Thank you for taking the poll, Sarah!\n",
      "Matt, what's your favorite programming language?\n",
      "Danielle, what's your favorite programming language?\n"
     ]
    }
   ],
   "source": [
    "favorite_languages = {\n",
    "    'jen': 'python',\n",
    "    'sarah': 'c',\n",
    "    'edward': 'ruby',\n",
    "    'phil': 'python',\n",
    "    }\n",
    "\n",
    "coders = ['phil', 'josh', 'david', 'becca', 'sarah', 'matt', 'danielle']\n",
    "\n",
    "for coder in coders:\n",
    "    if coder in favorite_languages.keys():\n",
    "        print(f\"Thank you for taking the poll, {coder.title()}!\")\n",
    "    else:\n",
    "        print(f\"{coder.title()}, what's your favorite programming language?\")\n"
   ]
  },
  {
   "cell_type": "markdown",
   "metadata": {},
   "source": [
    "练习 6.7 人们  **列表中存储字典**  \n",
    "在为练习6.1编写的程序中，再创建两个表示人的字典，然后将这三个字典都存储在一个名为people的列表中。遍历这个列表，将其中每个人的所有信息都打印出来。"
   ]
  },
  {
   "cell_type": "code",
   "execution_count": 6,
   "metadata": {},
   "outputs": [
    {
     "name": "stdout",
     "output_type": "stream",
     "text": [
      "Eric Matthes, in sitka, is 46 years old.\n",
      "Lemmy Matthes, in sitka, is 2 years old.\n",
      "Willie Matthes, in sitka, is 11 years old.\n"
     ]
    }
   ],
   "source": [
    "#创建空列表\n",
    "people = []\n",
    "\n",
    "#创建字典并添加到列表里面\n",
    "person = {\n",
    " 'first_name': 'eric',\n",
    " 'last_name': 'matthes',\n",
    " 'age': 46,\n",
    " 'city': 'sitka',\n",
    " }\n",
    "people.append(person)\n",
    "\n",
    "person = {\n",
    " 'first_name': 'lemmy',\n",
    " 'last_name': 'matthes',\n",
    " 'age': 2,\n",
    " 'city': 'sitka',\n",
    " }\n",
    "people.append(person)\n",
    "\n",
    "person = {\n",
    " 'first_name': 'willie',\n",
    " 'last_name': 'matthes',\n",
    " 'age': 11,\n",
    " 'city': 'sitka',\n",
    "}\n",
    "people.append(person)\n",
    "\n",
    "#显示信息\n",
    "for person in people:\n",
    "    full_name = f\"{person['first_name'].title()} {person['last_name'].title()}\"\n",
    "    age = person['age']\n",
    "    city = person['city']\n",
    "    print(f\"{full_name}, in {city}, is {age} years old.\")\n"
   ]
  },
  {
   "cell_type": "markdown",
   "metadata": {},
   "source": [
    "练习 6.9 喜欢的地方 **字典中存储列表**  \n",
    "创建一个名为favorite_places的字典。在这个字典中，将三个人的名字用作键，并存储每个人喜欢的1～3个地方。为让这个练习更有趣些，让一些朋友说出他们喜欢的几个地方。遍历这个字典，并将其中每个人的名字及其喜欢的地方打印出来"
   ]
  },
  {
   "cell_type": "code",
   "execution_count": 7,
   "metadata": {},
   "outputs": [
    {
     "name": "stdout",
     "output_type": "stream",
     "text": [
      "\n",
      "eric likes the following places:\n",
      "- bear mountain\n",
      "- death valley\n",
      "- tierra del fuego\n",
      "\n",
      "erin likes the following places:\n",
      "- hawaii\n",
      "- iceland\n",
      "\n",
      "willie likes the following places:\n",
      "- mt. verstovia\n",
      "- the playground\n",
      "- new hampshire\n"
     ]
    }
   ],
   "source": [
    "favorite_places = {\n",
    " 'eric': ['bear mountain', 'death valley', 'tierra del fuego'],\n",
    " 'erin': ['hawaii', 'iceland'],\n",
    " 'willie': ['mt. verstovia', 'the playground', 'new hampshire']\n",
    " }\n",
    "\n",
    "for name,places in favorite_places.items():\n",
    "    print(f\"\\n{name} likes the following places:\")\n",
    "    for place in places:\n",
    "        print(f\"- {place}\")"
   ]
  },
  {
   "cell_type": "markdown",
   "metadata": {},
   "source": [
    "练习 6.11 城市 **字典中存储字典**  \n",
    "创建一个名为cities的字典，将三个城市名用作键。对于每座城市，都创建一个字典，并在其中包含该城市所属的国家、人口约数以及一个有关该城市的事实。表示每座城市的字典都应包含country、population和fact等键。将每座城市的名字以及相关信息都打印出来。"
   ]
  },
  {
   "cell_type": "code",
   "execution_count": 10,
   "metadata": {},
   "outputs": [
    {
     "name": "stdout",
     "output_type": "stream",
     "text": [
      "\n",
      "Santiago is in chile.\n",
      " It has a population of about 6310000.\n",
      " The andes mounats are nearby.\n",
      "\n",
      "Talkeetna is in united states.\n",
      " It has a population of about 876.\n",
      " The alaska range mounats are nearby.\n",
      "\n",
      "Kathmandu is in nepal.\n",
      " It has a population of about 975453.\n",
      " The himilaya mounats are nearby.\n"
     ]
    }
   ],
   "source": [
    "cities = {\n",
    "    'santiago': {\n",
    "    'country': 'chile',\n",
    "    'population': 6_310_000,\n",
    "    'nearby mountains': 'andes',\n",
    "    },\n",
    "\n",
    "    'talkeetna': {\n",
    "    'country': 'united states',\n",
    "    'population': 876,\n",
    "    'nearby mountains': 'alaska range',\n",
    "    },\n",
    "\n",
    "    'kathmandu': {\n",
    "    'country': 'nepal',\n",
    "    'population': 975_453,\n",
    "    'nearby mountains': 'himilaya',\n",
    "    }\n",
    "}\n",
    "\n",
    "for city,city_infos in cities.items():\n",
    "    country = city_infos['country']\n",
    "    population = city_infos['population']\n",
    "    nearby_mountains = city_infos['nearby mountains']\n",
    "    \n",
    "    print(f\"\\n{city.title()} is in {country}.\")\n",
    "    print(f\" It has a population of about {population}.\")\n",
    "    print(f\" The {nearby_mountains} mounats are nearby.\")"
   ]
  },
  {
   "cell_type": "code",
   "execution_count": null,
   "metadata": {},
   "outputs": [],
   "source": []
  }
 ],
 "metadata": {
  "kernelspec": {
   "display_name": "Python 3",
   "language": "python",
   "name": "python3"
  },
  "language_info": {
   "codemirror_mode": {
    "name": "ipython",
    "version": 3
   },
   "file_extension": ".py",
   "mimetype": "text/x-python",
   "name": "python",
   "nbconvert_exporter": "python",
   "pygments_lexer": "ipython3",
   "version": "3.8.6"
  }
 },
 "nbformat": 4,
 "nbformat_minor": 2
}
