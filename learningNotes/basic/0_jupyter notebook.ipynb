{
 "cells": [
  {
   "cell_type": "markdown",
   "metadata": {
    "collapsed": false,
    "pycharm": {
     "name": "#%% md\n"
    }
   },
   "source": [
    "# **pycharm-jupyter notebook markdown使用说明**\n"
   ]
  },
  {
   "cell_type": "markdown",
   "metadata": {
    "collapsed": false,
    "pycharm": {
     "name": "#%% md\n"
    }
   },
   "source": [
    "**一、Markdown 标题语法**\n",
    "- 可以在单词或短语前面添加井号 ；# 的数量代表了标题的级别。\n",
    "- 还可以在文本下方(回车空出一行)添加任意数量的 == 号来标识一级标题，或者 -- 号来标识二级标题。"
   ]
  },
  {
   "cell_type": "markdown",
   "metadata": {
    "collapsed": false,
    "pycharm": {
     "name": "#%% md\n"
    }
   },
   "source": [
    "**二、Markdown 段落语法**\n",
    "- 要创建段落，请使用空白行将一行或多行文本进行分隔。\n",
    "- 不要用空格（spaces）或制表符（ tabs）缩进段落。"
   ]
  },
  {
   "cell_type": "markdown",
   "metadata": {
    "collapsed": false,
    "pycharm": {
     "name": "#%% md\n"
    }
   },
   "source": [
    "**三、Markdown 换行语法**\n",
    "- 在一行的末尾添加两个或多个空格，然后按回车键,即可创建一个换行“(<br>)”。\n",
    "- 为了兼容性，请在行尾添加“结尾空格”或 HTML 的 <br> 标签来实现换行。"
   ]
  },
  {
   "cell_type": "markdown",
   "metadata": {
    "collapsed": false,
    "pycharm": {
     "name": "#%% md\n"
    }
   },
   "source": [
    "**四、Markdown 强调语法**\n",
    "1. 加粗\n",
    " - 在单词或短语的前后各添加两个星号（asterisks）或下划线（underscores）。\n",
    " - 如需加粗一个单词或短语的中间部分用以表示强调的话，请在要加粗部分的两侧各添加两个星号（asterisks）。\n",
    "2. 斜体\n",
    " - 在单词或短语前后添加一个星号（asterisk）或下划线（underscore）。\n",
    " - 要斜体突出单词的中间部分，请在字母前后各添加一个星号，中间不要带空格。\n",
    " - 要同时用粗体和斜体突出显示文本，请在单词或短语的前后各添加三个星号或下划线。"
   ]
  },
  {
   "cell_type": "markdown",
   "metadata": {
    "collapsed": false,
    "pycharm": {
     "name": "#%% md\n"
    }
   },
   "source": [
    "**五、Markdown 引用语法**\n",
    "- 要创建块引用，请在段落前添加一个 > 符号。\n",
    "- 块引用可以包含多个段落，请为段落之间的空白行添加一个 > 符号。\n",
    "- 块引用可以嵌套，在要嵌套的段落前添加一个 >> 符号。\n",
    "- 块引用可以包含其他 Markdown 格式的元素，并非所有元素都可以使用。"
   ]
  },
  {
   "cell_type": "markdown",
   "metadata": {
    "collapsed": false,
    "pycharm": {
     "name": "#%% md\n"
    }
   },
   "source": [
    "**六、Markdown 列表语法**\n",
    "1. 有序列表\n",
    "+ 要创建有序列表，请在每个列表项前添加数字并紧跟一个英文句点。\n",
    "+ 数字不必按数学顺序排列，但是列表应当以数字 1 起始。\n",
    "2. 无序列表\n",
    "* 要创建无序列表，请在每个列表项前面添加破折号 (-)、星号 (*) 或加号 (+) 。\n",
    "* 缩进一个或多个列表项可创建嵌套列表。\n",
    "3. 在列表中嵌套其他元素\n",
    "- 要在保留列表连续性的同时在列表中添加另一种元素，请将该元素缩进四个空格或一个制表符。\n",
    "- 代码块通常采用四个空格或一个制表符缩进。当它们被放在列表中时，请将它们缩进八个空格或两个制表符"
   ]
  },
  {
   "cell_type": "markdown",
   "metadata": {
    "collapsed": false,
    "pycharm": {
     "name": "#%% md\n"
    }
   },
   "source": [
    "**七、Markdown 代码语法**\n",
    "- 要将单词或短语表示为代码，请将其包裹在反引号 (`) 中。**注意：这个符号在键盘~的下面**\n",
    "- 使用单个反引号（`）来插入行内代码。\n",
    "- 使用三个反引号（```）来插入块级代码。\n",
    "    - 以下为示例\n",
    "    这是一个Markdown单元格，其中包含一些行内代码 `print(\"Hello, World!\")`。\n",
    " \n",
    "    以下是一个代码块：\n",
    "    ```python\n",
    "        if a > 3:\n",
    "            print(i)\n",
    "    ```\n",
    "- 如果你要表示为代码的单词或短语中包含一个或多个反引号，则可以通过将单词或短语包裹在双反引号(``)中。\n"
   ]
  },
  {
   "cell_type": "markdown",
   "metadata": {
    "collapsed": false,
    "pycharm": {
     "name": "#%% md\n"
    }
   },
   "source": [
    "**八、Markdown 分隔线语法**\n",
    "***\n",
    "- 要创建分隔线，请在单独一行上使用三个或多个星号 (***)、破折号 (---) 或下划线 (___) ，并且不能包含其他内容。"
   ]
  },
  {
   "cell_type": "markdown",
   "metadata": {
    "collapsed": false,
    "pycharm": {
     "name": "#%% md\n"
    }
   },
   "source": [
    "**九、Markdown 链接语法***\n",
    "- 链接title是当鼠标悬停在链接上时会出现的文字，这个title是可选的，它放在圆括号中链接地址后面，跟链接地址之间以空格分隔。\n",
    "1. 网址和Email地址\n",
    "- 使用尖括号可以很方便地把URL或者email地址变成可点击的链接。\n",
    "2. 带格式化的链接\n",
    "- 强调链接，在链接前后增加星号，要将链接表示为代码，在**方括号中添加引号**\n",
    "- 百度的网站是*[baidu](http://www.baidu.com)*\n",
    "3.引用类型链接\n",
    "- ①链接的第一部分格式\n",
    "- 第一组方括号包围应显示为链接的文本。第二组括号显示了一个标签，该标签用于指向您存储在文档其他位置的链接。\n",
    "- 尽管不是必需的，可以在第一组和第二组括号之间包含一个空格。第二组括号中的标签不区分大小写，可以包含字母，数字，空格或标点符号。\n",
    "- ②链接的第二部分格式\n",
    "- 一是放在括号中的标签，其后紧跟一个冒号和至少一个空格（例如[label]:）。\n",
    "- 二是链接的URL，可以选择将其括在尖括号中。\n",
    "- 三是链接的可选标题，可以将其括在双引号，单引号或括号中。\n",
    "- 可以将链接的第二部分放在Markdown文档中的任何位置。有些人将它们放在出现的段落之后，有些人则将它们放在文档的末尾（例如尾注或脚注）。\n",
    "- 不同的 Markdown 应用程序处理URL中间的空格方式不一样。为了兼容性，请尽量使用%20代替空格。"
   ]
  },
  {
   "cell_type": "markdown",
   "metadata": {
    "collapsed": false,
    "pycharm": {
     "name": "#%% md\n"
    }
   },
   "source": [
    "**十、Markdown 图片语法**\n",
    "请使用感叹号 (!), 然后在方括号增加替代文本，图片链接放在圆括号里，括号里的链接后可以增加一个可选的图片标题文本。\n",
    "- ![图片alt](图片链接 \"图片title\")\n",
    "- 给图片增加链接，请将图像的Markdown 括在方括号中，然后将链接添加在圆括号中。\n",
    "[![沙漠中的岩石图片](/assets/img/shiprock.jpg \"Shiprock\")](https://markdown.com.cn)"
   ]
  },
  {
   "cell_type": "markdown",
   "metadata": {
    "collapsed": false,
    "pycharm": {
     "name": "#%% md\n"
    }
   },
   "source": [
    "**十二、Markdown 内嵌 HTML 标签**\n",
    "- 出于安全原因，并非所有 Markdown 应用程序都支持在 Markdown 文档中添加 HTML。\n",
    "- 区块元素──比如 <div>、<table>、<pre>、<p> 等标签，必须在前后加上空行，以便于内容区分。而且这些元素的开始与结尾标签，不可以\n",
    "- tab 或是空白来缩进。Markdown 会自动识别这区块元素，避免在区块标签前后加上没有必要的 <p> 标签。\n",
    "- HTML 块级标签内不能使用 Markdown 语法。例如 <p>italic and **bold**</p> 将不起作用。"
   ]
  },
  {
   "cell_type": "markdown",
   "metadata": {
    "collapsed": false,
    "pycharm": {
     "name": "#%% md\n"
    }
   },
   "source": []
  }
 ],
 "metadata": {
  "kernelspec": {
   "display_name": "Python 3",
   "language": "python",
   "name": "python3"
  },
  "language_info": {
   "codemirror_mode": {
    "name": "ipython",
    "version": 2
   },
   "file_extension": ".py",
   "mimetype": "text/x-python",
   "name": "python",
   "nbconvert_exporter": "python",
   "pygments_lexer": "ipython2",
   "version": "2.7.6"
  }
 },
 "nbformat": 4,
 "nbformat_minor": 0
}
