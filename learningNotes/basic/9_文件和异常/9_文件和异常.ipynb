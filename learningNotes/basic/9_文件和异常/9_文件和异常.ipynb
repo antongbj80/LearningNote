{
 "cells": [
  {
   "cell_type": "markdown",
   "metadata": {},
   "source": [
    "练习 10.1 Python 学习笔记  \n",
    "在文本编辑器中新建一个文件，写几句话来总结一下你至此学到的Python知识，其中每一行都以“In Python you can”打头。将这个文件命名为learning_python.txt，并存储到为完成本章练习而编写的程序所在的目录中。编写一个程序，读取这个文件，并将你所写的内容打印两次：第一次打印时读取整个文件；第二次打印时先将所有行都存储在一个列表中，再遍历列表中的各行。"
   ]
  },
  {
   "cell_type": "code",
   "execution_count": 4,
   "metadata": {},
   "outputs": [
    {
     "name": "stdout",
     "output_type": "stream",
     "text": [
      "--- Reading in the entire file:\n",
      "In Python you can store as much information as you want.\n",
      "In Python you can connect pieces of information.\n",
      "In Python you can model real-world situations.\n",
      "\n",
      "--- Looping over the lines:\n",
      "In Python you can store as much information as you want.\n",
      "In Python you can connect pieces of information.\n",
      "In Python you can model real-world situations.\n"
     ]
    }
   ],
   "source": [
    "from pathlib import Path\n",
    "\n",
    "#第一次打印时读取整个文件\n",
    "print(\"--- Reading in the entire file:\")\n",
    "path = Path('learning_python.txt')\n",
    "contents = path.read_text()\n",
    "print(contents)\n",
    "\n",
    "#第二次打印时先将所有行都存储在一个列表中，再遍历列表中的各行\n",
    "lines = contents.splitlines()\n",
    "print(\"\\n--- Looping over the lines:\")\n",
    "for line in lines:\n",
    "    print(line)"
   ]
  },
  {
   "cell_type": "markdown",
   "metadata": {},
   "source": [
    "练习 10.2 C 语言学习笔记  \n",
    "可使用replace()方法将字符串中的特定单词替换为另一个单词。下面是一个简单的示例，演示了如何将句子中的'dog'替换为'cat'：  \n",
    ">>> message = \"I really like dogs.\"  \n",
    ">>> message.replace('dog', 'cat')  \n",
    "'I really like cats.'  \n",
    "读取你刚创建的文件learning_python.txt中的每一行，将其中的Python都替换为另一门语言的名称，如C。将修改后的各行都打印到屏幕上。"
   ]
  },
  {
   "cell_type": "code",
   "execution_count": 5,
   "metadata": {},
   "outputs": [
    {
     "name": "stdout",
     "output_type": "stream",
     "text": [
      "In C you can store as much information as you want.\n",
      "In C you can connect pieces of information.\n",
      "In C you can model real-world situations.\n"
     ]
    }
   ],
   "source": [
    "from pathlib import Path\n",
    "\n",
    "path = Path('learning_python.txt')\n",
    "contents = path.read_text()\n",
    "\n",
    "lines = contents.splitlines()\n",
    "for line in lines:\n",
    "    line = line.replace('Python','C')\n",
    "    print(line)\n"
   ]
  },
  {
   "cell_type": "markdown",
   "metadata": {},
   "source": [
    "练习 10.3 简化代码  \n",
    "本节前面的程序file_reader.py中使用了一个临时变量lines，来说明splitlines()的工作原理。可省略这个临时变量，直接遍历splitlines()返回的列表：  \n",
    "for line in contents.splitlines():  \n",
    "对于本节的每个程序，都删除其中的临时变量，让代码更简洁。"
   ]
  },
  {
   "cell_type": "code",
   "execution_count": 6,
   "metadata": {},
   "outputs": [
    {
     "name": "stdout",
     "output_type": "stream",
     "text": [
      "In C you can store as much information as you want.\n",
      "In C you can connect pieces of information.\n",
      "In C you can model real-world situations.\n"
     ]
    }
   ],
   "source": [
    "from pathlib import Path\n",
    "\n",
    "path = Path('learning_python.txt')\n",
    "contents = path.read_text()\n",
    "\n",
    "for line in contents.splitlines():\n",
    "    line = line.replace('Python','C')\n",
    "    print(line)\n"
   ]
  },
  {
   "cell_type": "markdown",
   "metadata": {},
   "source": [
    "练习 10.4 访客  \n",
    "编写一个程序，提示用户输入其名字。在用户做出响应后，将其名字写入文件guest.txt。"
   ]
  },
  {
   "cell_type": "code",
   "execution_count": 8,
   "metadata": {},
   "outputs": [
    {
     "name": "stdout",
     "output_type": "stream",
     "text": [
      "mary\n"
     ]
    }
   ],
   "source": [
    "from pathlib import Path\n",
    "\n",
    "path = Path('guest.txt')\n",
    "msg = input(\"Please input your name:\")\n",
    "path.write_text(msg)\n",
    "\n",
    "contents = path.read_text()\n",
    "print(contents)"
   ]
  },
  {
   "cell_type": "markdown",
   "metadata": {},
   "source": [
    "练习 10.5 访客簿  \n",
    "编写一个while循环，提示用户输入其名字。收集用户输入的所有名字，将其写入guest_book.txt，并确保这个文件中的每条记录都独占一行。"
   ]
  },
  {
   "cell_type": "code",
   "execution_count": 11,
   "metadata": {},
   "outputs": [
    {
     "name": "stdout",
     "output_type": "stream",
     "text": [
      "marymary\n",
      "lili\n",
      "py\n",
      "\n"
     ]
    }
   ],
   "source": [
    "from pathlib import Path\n",
    "\n",
    "path = Path('guest_book.txt')\n",
    "while True:\n",
    "    name_book = input(\"Please enter your name:\")\n",
    "    if name_book == 'exit':\n",
    "        break\n",
    "    else:\n",
    "        msg += name_book + '\\n'\n",
    "\n",
    "path.write_text(msg)\n",
    "contents = path.read_text()\n",
    "print(contents)"
   ]
  },
  {
   "cell_type": "code",
   "execution_count": 13,
   "metadata": {},
   "outputs": [
    {
     "name": "stdout",
     "output_type": "stream",
     "text": [
      "Thanks mary, we'll add you to the guest book.\n",
      "Thanks py, we'll add you to the guest book.\n",
      "Thanks lili, we'll add you to the guest book.\n"
     ]
    },
    {
     "data": {
      "text/plain": [
       "13"
      ]
     },
     "execution_count": 13,
     "metadata": {},
     "output_type": "execute_result"
    }
   ],
   "source": [
    "from pathlib import Path\n",
    "path = Path('guest_book.txt')\n",
    "prompt = \"\\nHi, what's your name? \"\n",
    "prompt += \"\\nEnter 'quit' if you're the last guest. \"\n",
    "guest_names = []\n",
    "\n",
    "while True:\n",
    "    name = input(prompt)\n",
    "    if name == 'quit':\n",
    "        break\n",
    "    print(f\"Thanks {name}, we'll add you to the guest book.\")\n",
    "    guest_names.append(name)\n",
    "\n",
    "# 创建一个字符串，它包含所有的名字，且在每个名字后面都换行\n",
    "file_string = ''\n",
    "for name in guest_names:\n",
    "   file_string += f\"{name}\\n\"\n",
    "path.write_text(file_string)"
   ]
  },
  {
   "cell_type": "markdown",
   "metadata": {},
   "source": [
    "练习 10.6 加法运算  \n",
    "在提示用户提供数值输入时，常出现的一个问题是，用户提供的是文本而不是数。在这种情况下，当你尝试将输入转换为整数时，将引发ValueError异常。编写一个程序，提示用户输入两个数，再将它们相加并打印结果。在用户输入的任意一个值不是数时都捕获ValueError异常，并打印一条友好的错误消息。对你编写的程序进行测试：先输入两个数，再输入一些文本而不是数。  \n",
    "练习 10.7 加法计算器  \n",
    "将为练习10.6编写的代码放在一个while循环中，让用户在犯错（输入的是文本而不是数）后能够继续输入数"
   ]
  },
  {
   "cell_type": "code",
   "execution_count": 18,
   "metadata": {},
   "outputs": [
    {
     "name": "stdout",
     "output_type": "stream",
     "text": [
      "The sum is: 8\n",
      "Sorry, I really needed a number.\n",
      "The sum is: 24\n",
      "Sorry, I really needed a number.\n",
      "The sum is: 47\n"
     ]
    }
   ],
   "source": [
    "while True:\n",
    "    first_number = input(\"Enter the first number: \")\n",
    "    if first_number == 'q':\n",
    "        break\n",
    "    second_number = input(\"Enter the second number: \")\n",
    "    if second_number == 'q':\n",
    "        break\n",
    "    try:\n",
    "        result = int(first_number) + int(second_number)\n",
    "    except ValueError:\n",
    "        print(\"Sorry, I really needed a number.\")\n",
    "    else:\n",
    "        print(\"The sum is:\", result)"
   ]
  },
  {
   "cell_type": "markdown",
   "metadata": {},
   "source": [
    "练习 10.8 猫和狗  \n",
    "创建文件cats.txt和dogs.txt，在第一个文件中至少存储三只猫的名字，在第二个文件中至少存储三条狗的名字。编写一个程序，尝试读取这些文件，并将其内容打印到屏幕上。将这些代码放在一个try-except代码块中，以便在文件不存在时捕获FileNotFoundError异常，并显示一条友好的消息。将任意一个文件移到另一个地方，并确认except代码块中的代码将正确地执行。\n",
    "练习 10.9 静默的猫和狗  \n",
    "修改你在练习10.8中编写的except代码块，让程序在文件不存在时静默失败。"
   ]
  },
  {
   "cell_type": "code",
   "execution_count": 28,
   "metadata": {},
   "outputs": [
    {
     "name": "stdout",
     "output_type": "stream",
     "text": [
      "Reading file cat.txt:\n",
      "Sorry, the file cat.txt does not exist.\n",
      "Reading file cat.txt:\n",
      "Reading file dog.txt:\n",
      "willie\n",
      "annahootz\n",
      "summit\n",
      "Reading file dog.txt:\n",
      "willie\n",
      "annahootz\n",
      "summit\n"
     ]
    }
   ],
   "source": [
    "from pathlib import Path\n",
    "\n",
    "def read_file(file_name):\n",
    "    \"\"\"\n",
    "    用于读取文件内容,若找不到文件则会抛出FileNotFoundError异常\n",
    "    若无异常则会返回文件内容\n",
    "    \"\"\"\n",
    "    try:\n",
    "        contents = Path.read_text(file_name, encoding=\"utf-8\")\n",
    "    except FileNotFoundError:\n",
    "        print(f\"Sorry, the file {file_name} does not exist.\")\n",
    "    else:\n",
    "        for content in contents.splitlines():\n",
    "            print(content)\n",
    "\n",
    "def read_file_1(file_name):\n",
    "    \"\"\"\n",
    "    用于读取文件内容,若找不到文件则对FileNotFoundError异常静默\n",
    "    若无异常则会返回文件内容\n",
    "    \"\"\"\n",
    "    try:\n",
    "        contents = Path.read_text(file_name, encoding=\"utf-8\")\n",
    "    except FileNotFoundError:\n",
    "        pass\n",
    "    else:\n",
    "        for content in contents.splitlines():\n",
    "            print(content)\n",
    "\n",
    "file_names = [\"cat.txt\",\"dog.txt\"]\n",
    "for file_name in file_names:\n",
    "    path = Path(file_name)\n",
    "    print(f\"Reading file {file_name}:\")\n",
    "    read_file(path)\n",
    "    print(f\"Reading file {file_name}:\")\n",
    "    read_file_1(path)"
   ]
  },
  {
   "cell_type": "markdown",
   "metadata": {},
   "source": [
    "练习 10.10 常见单词\n",
    "访问古登堡计划，找一些你想分析的图书。下载这些作品的文本文件或将浏览器中的原始文本复制到文本文件中。可以使用方法count()来确定特定的单词或短语在字符串中出现了多少次。例如，下面的代码计算'row'在一个字符串中出现了多少次：\n",
    ">>> line = \"Row, row, row your boat\"  \n",
    ">>> line.count('row')  \n",
    "2  \n",
    ">>> line.lower().count('row')  \n",
    "3  \n",
    "\n",
    "\n",
    "请注意，通过使用lower()将字符串转换为全小写的，可捕捉要查找的单词的各种格式，而不管其大小写如何。编写一个程序，读取你在古登堡计划中获取的文件，并计算单词'the'在每个文件中分别出现了多少次。这里计算得到的结果并不准确，因为诸如'then'和'there'等单词也被计算在内了。请尝试计算'the '（包含空格）出现的次数，看看结果相差多少。"
   ]
  },
  {
   "cell_type": "code",
   "execution_count": 37,
   "metadata": {},
   "outputs": [
    {
     "name": "stdout",
     "output_type": "stream",
     "text": [
      "'the' appears in alice.txt about 2528 times.\n"
     ]
    }
   ],
   "source": [
    "from pathlib import Path\n",
    "\n",
    "def count_common_words(file_name,word):\n",
    "    \"\"\"计算指定的单词在图书中出现了多少次\"\"\"\n",
    "    path = Path(file_name)\n",
    "    try:\n",
    "        contents = path.read_text(encoding='utf-8')\n",
    "    except FileNotFoundError:\n",
    "        print(f\"{file_name}不存在！\")\n",
    "    else:\n",
    "        \n",
    "        word_count = contents.lower().count(word)\n",
    "        msg = f\"'{word}' appears in {file_name} about {word_count} times.\"\n",
    "        print(msg)\n",
    "\n",
    "filename = 'alice.txt'\n",
    "count_common_words(filename, 'the')"
   ]
  }
 ],
 "metadata": {
  "kernelspec": {
   "display_name": "Python 3",
   "language": "python",
   "name": "python3"
  },
  "language_info": {
   "codemirror_mode": {
    "name": "ipython",
    "version": 3
   },
   "file_extension": ".py",
   "mimetype": "text/x-python",
   "name": "python",
   "nbconvert_exporter": "python",
   "pygments_lexer": "ipython3",
   "version": "3.8.6"
  }
 },
 "nbformat": 4,
 "nbformat_minor": 2
}
